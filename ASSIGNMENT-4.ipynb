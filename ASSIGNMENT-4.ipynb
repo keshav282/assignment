{
 "cells": [
  {
   "cell_type": "code",
   "execution_count": null,
   "id": "e988c8c6-e2e7-419a-85f1-a1b27d4be6c4",
   "metadata": {},
   "outputs": [],
   "source": [
    "                                                               # THEORY QUESTIONS "
   ]
  },
  {
   "cell_type": "code",
   "execution_count": null,
   "id": "2a3a8c60-9762-4998-90c1-6c110631d8d9",
   "metadata": {},
   "outputs": [],
   "source": [
    "# 1. What is Object-Oriented Programming (OOP)?\n",
    "'''\n",
    "Object-Oriented Programming (OOP) is a programming paradigm centered around the concept \n",
    "of “objects,” which encapsulate both data and behaviors. OOP enables modularity,\n",
    "reusability, and abstraction by structuring code into classes and objects.\n",
    "'''"
   ]
  },
  {
   "cell_type": "code",
   "execution_count": null,
   "id": "1e09dd24-8497-487c-bbfd-877bd67463a1",
   "metadata": {},
   "outputs": [],
   "source": [
    "# 2. What is a class in OOP?\n",
    "\n",
    "'''\n",
    "A class in OOP is a blueprint or template for creating object\n",
    "It defines a set of attributes and methods that the created objects will have.\n",
    "'''"
   ]
  },
  {
   "cell_type": "code",
   "execution_count": null,
   "id": "5958aaf5-745a-4c02-bc89-3c76a20e2599",
   "metadata": {},
   "outputs": [],
   "source": [
    "# 3. What is an object in OOP?\n",
    "'''\n",
    "An object is an instance of a class. \n",
    "It represents a real-world entity that has both state (attributes) and behavior (methods) as defined by its class.\n",
    "'''\n"
   ]
  },
  {
   "cell_type": "code",
   "execution_count": null,
   "id": "3eccfebf-eff5-47a8-88c2-9ba22e50c1b4",
   "metadata": {},
   "outputs": [],
   "source": [
    "# 4. What is the difference between abstraction and encapsulation?\n",
    "'''\n",
    "Abstraction hides the internal implementation details and shows only essential features, while encapsulation binds the data and methods together and \n",
    "restricts direct access to some of the object’s components.\n",
    "'''"
   ]
  },
  {
   "cell_type": "code",
   "execution_count": null,
   "id": "1b47852c-7f97-43ac-9cfe-3c85690651eb",
   "metadata": {},
   "outputs": [],
   "source": [
    "# 5. What are dunder methods in Python?\n",
    "'''\n",
    "Dunder methods, also known as magic methods, are special methods in Python that begin and\n",
    "end with double underscores. They are used to define the behavior of objects for built-in operations.\n",
    "'''\n"
   ]
  },
  {
   "cell_type": "code",
   "execution_count": null,
   "id": "8ad4d500-2f77-4ac1-ab48-b31d5a1ee925",
   "metadata": {},
   "outputs": [],
   "source": [
    "# 6. Explain the concept of inheritance in OOP\n",
    "'''\n",
    "Inheritance is a mechanism where a new class (child) derives the properties and\n",
    "behaviors from an existing class (parent), enabling code reuse and hierarchical relationships.\n",
    "'''\n"
   ]
  },
  {
   "cell_type": "code",
   "execution_count": null,
   "id": "d9623b4e-42f4-4fc3-aab4-b05c140c8be4",
   "metadata": {},
   "outputs": [],
   "source": [
    "# 7. What is polymorphism in OOP?\n",
    "'''\n",
    "Polymorphism allows methods to have different behaviors based on the object invoking them.\n",
    "It enables objects of different classes to be treated through the same interface.\n",
    "'''\n"
   ]
  },
  {
   "cell_type": "code",
   "execution_count": null,
   "id": "a10ac6ce-c137-403e-a096-ad935247b4e6",
   "metadata": {},
   "outputs": [],
   "source": [
    "# 8. How is encapsulation achieved in Python?\n",
    "'''Encapsulation in Python is achieved by defining private variables or methods using name conventions (e.g., using a single or double underscore), \n",
    "restricting direct access from outside the class.\n",
    "'''"
   ]
  },
  {
   "cell_type": "code",
   "execution_count": null,
   "id": "aa27fe02-0a58-4cc4-a9f9-31ab64aa8da7",
   "metadata": {},
   "outputs": [],
   "source": [
    "# 9. What is a constructor in Python?\n",
    "'''\n",
    "A constructor is a special method named __init__ that is automatically called when a new object is created.\n",
    "It is used to initialize the object’s attributes.\n",
    "'''\n"
   ]
  },
  {
   "cell_type": "code",
   "execution_count": null,
   "id": "007a8ee3-da39-4186-acd5-a0b923ef9f86",
   "metadata": {},
   "outputs": [],
   "source": [
    "# 10. What are class and static methods in Python?\n",
    "'''\n",
    "Class methods operate on the class itself and use @classmethod and a cls parameter. Static methods are independent of class or instance and \n",
    "use @staticmethod, not taking self or cls.\n",
    "'''"
   ]
  },
  {
   "cell_type": "code",
   "execution_count": null,
   "id": "83457a0e-86fe-4879-94f7-b10670109c46",
   "metadata": {},
   "outputs": [],
   "source": [
    "# 11. What is method overloading in Python?\n",
    "'''\n",
    "Python does not support traditional method overloading. \n",
    "However, it can be achieved using default or variable-length arguments to allow different ways of calling a method.\n",
    "'''\n"
   ]
  },
  {
   "cell_type": "code",
   "execution_count": null,
   "id": "a6354a5e-63aa-4d49-b004-a601ed7a3bca",
   "metadata": {},
   "outputs": [],
   "source": [
    "# 12. What is method overriding in OOP?\n",
    "'''\n",
    "Method overriding occurs when a child class provides a specific implementation of a \n",
    "method that is already defined in its parent class, allowing customization of inherited behavior.\n",
    "'''\n"
   ]
  },
  {
   "cell_type": "code",
   "execution_count": null,
   "id": "452b71b6-fae3-41cc-97f6-eca87cbfb3ff",
   "metadata": {},
   "outputs": [],
   "source": [
    "# 13. What is a property decorator in Python?\n",
    "'''\n",
    "A property decorator (@property) is used to define getter methods, \n",
    "enabling attribute access using dot notation while still maintaining method encapsulation.\n",
    "'''\n"
   ]
  },
  {
   "cell_type": "code",
   "execution_count": null,
   "id": "8c4e41eb-1a1a-4966-93e5-17ba4ad58976",
   "metadata": {},
   "outputs": [],
   "source": [
    "# 14. Why is polymorphism important in OOP?\n",
    "'''\n",
    "Polymorphism allows for flexibility and scalability in code design.\n",
    "It enables writing more general and reusable code that can operate on objects of different classes.\n",
    "'''\n"
   ]
  },
  {
   "cell_type": "code",
   "execution_count": null,
   "id": "1e7f6a25-7c7c-4896-a33a-e343ec741646",
   "metadata": {},
   "outputs": [],
   "source": [
    "# 15. What is an abstract class in Python?\n",
    "'''\n",
    "An abstract class is a class that cannot be instantiated and is used to define a common interface for its subclasses. \n",
    "It may contain abstract methods that must be implemented in child classes.\n",
    "'''"
   ]
  },
  {
   "cell_type": "code",
   "execution_count": null,
   "id": "1a8edead-6c8e-4fa4-8e86-a1b355466438",
   "metadata": {},
   "outputs": [],
   "source": [
    "# 16. What are the advantages of OOP?\n",
    "'''\n",
    "OOP offers advantages like modularity, reusability, abstraction, inheritance, \n",
    "and encapsulation, making code easier to maintain, extend, and debug.\n",
    "\n",
    "'''"
   ]
  },
  {
   "cell_type": "code",
   "execution_count": null,
   "id": "162229a3-289d-4884-9938-b1aed3ffd4ab",
   "metadata": {},
   "outputs": [],
   "source": [
    "# 17. What is the difference between a class variable and an instance variable?\n",
    "'''\n",
    "A class variable is shared among all instances of the class, while an instance variable\n",
    "is unique to each object and defined using self.\n",
    "'''\n"
   ]
  },
  {
   "cell_type": "code",
   "execution_count": null,
   "id": "20efb160-3640-44e7-8be9-4ddb8e90caaf",
   "metadata": {},
   "outputs": [],
   "source": [
    "# 18. What is multiple inheritance in Python?\n",
    "'''\n",
    "Multiple inheritance is a feature where a class can inherit attributes and methods from \n",
    "more than one parent class, enabling complex relationships.\n",
    "'''\n"
   ]
  },
  {
   "cell_type": "code",
   "execution_count": null,
   "id": "10fd8af6-5656-47e4-8dff-441cc45d4a31",
   "metadata": {},
   "outputs": [],
   "source": [
    "# 19. Explain the purpose of __str__ and __repr__ methods in Python?\n",
    "'''\n",
    "The __str__ method is used to define a user-friendly string representation of \n",
    "an object, while __repr__ provides a more detailed and unambiguous representation for debugging.\n",
    "'''\n",
    "\n"
   ]
  },
  {
   "cell_type": "code",
   "execution_count": null,
   "id": "e066685a-5c8d-4279-94da-4350b1baf0a2",
   "metadata": {},
   "outputs": [],
   "source": [
    "# 20. What is the significance of the super() function in Python?\n",
    "'''\n",
    "The super() function is used to call methods from a parent class. It is commonly used in constructors and method overriding \n",
    "to extend the behavior of inherited methods.\n",
    "'''\n"
   ]
  },
  {
   "cell_type": "code",
   "execution_count": null,
   "id": "6d91e0eb-e2af-45a8-a5a3-261523f539e4",
   "metadata": {},
   "outputs": [],
   "source": [
    "# 21. What is the significance of the __del__ method in Python?\n",
    "'''\n",
    "The __del__ method is a destructor method automatically invoked when an \n",
    "object is about to be destroyed. It is used for cleanup operations.\n",
    "'''\n"
   ]
  },
  {
   "cell_type": "code",
   "execution_count": null,
   "id": "56845c98-63a9-4479-a383-e87a380809e8",
   "metadata": {},
   "outputs": [],
   "source": [
    "# 22. What is the difference between @staticmethod and @classmethod in Python?\n",
    "'''\n",
    "@staticmethod defines a method that doesn't access the class or instance. @classmethod defines a method that takes the class (cls) as the\n",
    "first argument and can access class-level attributes.\n",
    "'''"
   ]
  },
  {
   "cell_type": "code",
   "execution_count": null,
   "id": "780f1912-9629-4cc3-80ba-85c76b89a92e",
   "metadata": {},
   "outputs": [],
   "source": [
    "# 23. How does polymorphism work in Python with inheritance?\n",
    "'''\n",
    "Polymorphism in Python with inheritance allows a child class to \n",
    "override methods of the parent class. The same method name can behave differently depending on the class of the object invoking it.\n",
    "'''\n",
    "\n"
   ]
  },
  {
   "cell_type": "code",
   "execution_count": null,
   "id": "f27b5d92-9b5e-4134-9105-2bc58e642838",
   "metadata": {},
   "outputs": [],
   "source": [
    "# 24. What is method chaining in Python OOP?\n",
    "'''\n",
    "Method chaining is a technique where multiple methods are called on the same object in a single line, with each method\n",
    "returning the object itself to allow the chain.\n",
    "'''"
   ]
  },
  {
   "cell_type": "code",
   "execution_count": null,
   "id": "b69e56a9-0551-40ea-9d7b-05f9336615b2",
   "metadata": {},
   "outputs": [],
   "source": [
    "# 25. What is the purpose of the __call__ method in Python?\n",
    "'''\n",
    "The __call__ method allows an instance of a class to be called like a function.\n",
    "It enables the object to be invoked with parentheses.\n",
    "'''\n",
    "\n"
   ]
  },
  {
   "cell_type": "code",
   "execution_count": null,
   "id": "1653fd1e-5fde-401a-bea7-0bf57d40d352",
   "metadata": {},
   "outputs": [],
   "source": [
    "                                                            # PRACTICAL QUESTIONS "
   ]
  },
  {
   "cell_type": "code",
   "execution_count": 7,
   "id": "68e3a103-2651-4482-bff6-c0ac76a54a87",
   "metadata": {},
   "outputs": [
    {
     "name": "stdout",
     "output_type": "stream",
     "text": [
      "Bark!\n"
     ]
    }
   ],
   "source": [
    "# 1. Create a parent class Animal with a method speak() that prints a generic message. Create a child class Dog that overrides the speak() method to print \"Bark!\".\n",
    "#ans:- \n",
    "class Animal:\n",
    "    def speak(self):\n",
    "        print(\"Animal speaks\")\n",
    "\n",
    "class Dog(Animal):\n",
    "    def speak(self):\n",
    "        print(\"Bark!\")\n",
    "\n",
    "Dog().speak()"
   ]
  },
  {
   "cell_type": "code",
   "execution_count": 8,
   "id": "56d7ff20-414c-40a3-bdb9-8e7fb1e6dea6",
   "metadata": {},
   "outputs": [
    {
     "name": "stdout",
     "output_type": "stream",
     "text": [
      "Circle area\n",
      "Rectangle area\n"
     ]
    }
   ],
   "source": [
    "#2. Write a program to create an abstract class Shape with a method area(). Derive classes Circle and Rectangle from it and implement the area() method in both.\n",
    "from abc import ABC, abstractmethod\n",
    "\n",
    "class Shape(ABC):\n",
    "    @abstractmethod\n",
    "    def area(self):\n",
    "        pass\n",
    "\n",
    "class Circle(Shape):\n",
    "    def area(self):\n",
    "        print(\"Circle area\")\n",
    "\n",
    "class Rectangle(Shape):\n",
    "    def area(self):\n",
    "        print(\"Rectangle area\")\n",
    "\n",
    "Circle().area()     \n",
    "Rectangle().area()"
   ]
  },
  {
   "cell_type": "code",
   "execution_count": 9,
   "id": "6d3d91f1-e238-4eca-9c6f-ae7e1c1ea0e5",
   "metadata": {},
   "outputs": [
    {
     "name": "stdout",
     "output_type": "stream",
     "text": [
      "Vehicle Car Battery\n"
     ]
    }
   ],
   "source": [
    "# 3. Implement a multi-level inheritance scenario where a class Vehicle has an attribute type. Derive a class Car and further derive a class ElectricCar that adds a battery attribute.\n",
    "class Vehicle:\n",
    "    def __init__(self):\n",
    "        self.type = \"Vehicle\"\n",
    "\n",
    "class Car(Vehicle):\n",
    "    def __init__(self):\n",
    "        super().__init__()\n",
    "        self.brand = \"Car\"\n",
    "\n",
    "class ElectricCar(Car):\n",
    "    def __init__(self):\n",
    "        super().__init__()\n",
    "        self.battery = \"Battery\"\n",
    "\n",
    "car = ElectricCar()\n",
    "print(car.type, car.brand, car.battery)"
   ]
  },
  {
   "cell_type": "code",
   "execution_count": 10,
   "id": "66f49b8b-b89b-4e2b-a251-bcd8d65a5327",
   "metadata": {},
   "outputs": [
    {
     "name": "stdout",
     "output_type": "stream",
     "text": [
      "Sparrow flying\n",
      "Penguin can't fly\n"
     ]
    }
   ],
   "source": [
    "# 4. Demonstrate polymorphism by creating a base class Bird with a method fly(). Create two derived classes Sparrow and Penguin that override the fly() method.\n",
    "\n",
    "class Bird:\n",
    "    def fly(self):\n",
    "        print(\"Bird flying\")\n",
    "\n",
    "class Sparrow(Bird):\n",
    "    def fly(self):\n",
    "        print(\"Sparrow flying\")\n",
    "\n",
    "class Penguin(Bird):\n",
    "    def fly(self):\n",
    "        print(\"Penguin can't fly\")\n",
    "\n",
    "Sparrow().fly()   \n",
    "Penguin().fly()"
   ]
  },
  {
   "cell_type": "code",
   "execution_count": 11,
   "id": "e528b918-e42e-447e-a6ae-41f1e13e655a",
   "metadata": {},
   "outputs": [
    {
     "name": "stdout",
     "output_type": "stream",
     "text": [
      "150\n"
     ]
    }
   ],
   "source": [
    "# 5. Write a program to demonstrate encapsulation by creating a class BankAccount with private attributes balance and methods to deposit, withdraw, and check balance.\n",
    "class BankAccount:\n",
    "    def __init__(self):\n",
    "        self.__balance = 0\n",
    "\n",
    "    def deposit(self, amount):\n",
    "        self.__balance += amount\n",
    "\n",
    "    def withdraw(self, amount):\n",
    "        if amount <= self.__balance:\n",
    "            self.__balance -= amount\n",
    "\n",
    "    def get_balance(self):\n",
    "        return self.__balance\n",
    "\n",
    "account = BankAccount()\n",
    "account.deposit(200)\n",
    "account.withdraw(50)\n",
    "print(account.get_balance())"
   ]
  },
  {
   "cell_type": "code",
   "execution_count": 12,
   "id": "eba9169a-7672-4981-9dc0-4460e28d465f",
   "metadata": {},
   "outputs": [
    {
     "name": "stdout",
     "output_type": "stream",
     "text": [
      "Guitar playing\n",
      "Piano playing\n"
     ]
    }
   ],
   "source": [
    "# 6. Demonstrate runtime polymorphism using a method play() in a base class Instrument. Derive classes Guitar and Piano that implement their own version of play().\n",
    "class Instrument:\n",
    "    def play(self):\n",
    "        print(\"Instrument playing\")\n",
    "\n",
    "class Guitar(Instrument):\n",
    "    def play(self):\n",
    "        print(\"Guitar playing\")\n",
    "\n",
    "class Piano(Instrument):\n",
    "    def play(self):\n",
    "        print(\"Piano playing\")\n",
    "\n",
    "Guitar().play()   \n",
    "Piano().play()"
   ]
  },
  {
   "cell_type": "code",
   "execution_count": 13,
   "id": "4ed0684f-08f2-4e0c-a666-ca435770f03b",
   "metadata": {},
   "outputs": [
    {
     "name": "stdout",
     "output_type": "stream",
     "text": [
      "15\n",
      "5\n"
     ]
    }
   ],
   "source": [
    "# 7. Create a class MathOperations with a class method add_numbers() to add two numbers and a static method subtract_numbers() to subtract two numbers.\n",
    "class MathOperations:\n",
    "    @classmethod\n",
    "    def add_numbers(cls, a, b):\n",
    "        return a + b\n",
    "\n",
    "    @staticmethod\n",
    "    def subtract_numbers(a, b):\n",
    "        return a - b\n",
    "\n",
    "print(MathOperations.add_numbers(10, 5))       \n",
    "print(MathOperations.subtract_numbers(10, 5))"
   ]
  },
  {
   "cell_type": "code",
   "execution_count": 14,
   "id": "9f7d4391-be55-472e-8cef-cde0ded269b8",
   "metadata": {},
   "outputs": [
    {
     "name": "stdout",
     "output_type": "stream",
     "text": [
      "2\n"
     ]
    }
   ],
   "source": [
    "# 8. Implement a class Person with a class method to count the total number of persons created.\n",
    "class Person:\n",
    "    count = 0\n",
    "\n",
    "    def __init__(self):\n",
    "        Person.count += 1\n",
    "\n",
    "    @classmethod\n",
    "    def total_persons(cls):\n",
    "        return cls.count\n",
    "\n",
    "p1 = Person()\n",
    "p2 = Person()\n",
    "print(Person.total_persons())"
   ]
  },
  {
   "cell_type": "code",
   "execution_count": 15,
   "id": "db168ec7-af53-4fe5-9f34-ae8cf692bf0b",
   "metadata": {},
   "outputs": [
    {
     "name": "stdout",
     "output_type": "stream",
     "text": [
      "2/5\n"
     ]
    }
   ],
   "source": [
    "# 9. Write a class Fraction with attributes numerator and denominator. Override the str method to display the fraction as \"numerator/denominator\".\n",
    "class Fraction:\n",
    "    def __init__(self, num, denom):\n",
    "        self.num = num\n",
    "        self.denom = denom\n",
    "\n",
    "    def __str__(self):\n",
    "        return f\"{self.num}/{self.denom}\"\n",
    "\n",
    "f = Fraction(2, 5)\n",
    "print(f)"
   ]
  },
  {
   "cell_type": "code",
   "execution_count": 16,
   "id": "bc2bbbbc-0689-4884-9c61-039dde6f33b6",
   "metadata": {},
   "outputs": [
    {
     "name": "stdout",
     "output_type": "stream",
     "text": [
      "(4, 6)\n"
     ]
    }
   ],
   "source": [
    "# 10. Demonstrate operator overloading by creating a class Vector and overriding the add method to add twovectors.\n",
    "class Vector:\n",
    "    def __init__(self, x, y):\n",
    "        self.x = x\n",
    "        self.y = y\n",
    "\n",
    "    def __add__(self, other):\n",
    "        return Vector(self.x + other.x, self.y + other.y)\n",
    "\n",
    "    def __str__(self):\n",
    "        return f\"({self.x}, {self.y})\"\n",
    "\n",
    "v1 = Vector(1, 2)\n",
    "v2 = Vector(3, 4)\n",
    "print(v1 + v2)\n"
   ]
  },
  {
   "cell_type": "code",
   "execution_count": 18,
   "id": "fc99bd67-3389-4d82-9d17-21d61fbe3222",
   "metadata": {},
   "outputs": [
    {
     "name": "stdout",
     "output_type": "stream",
     "text": [
      "Hello, my name is KESHAV and I am 20 years old.\n"
     ]
    }
   ],
   "source": [
    "# 11. Create a class Person with attributes name and age. Add a method greet() that prints \"Hello, my name is {name} and I am {age} years old.\"\n",
    "class Person:\n",
    "    def __init__(self, name, age):\n",
    "        self.name = name\n",
    "        self.age = age\n",
    "\n",
    "    def greet(self):\n",
    "        print(f\"Hello, my name is {self.name} and I am {self.age} years old.\")\n",
    "\n",
    "p = Person(\"KESHAV\", 20)\n",
    "p.greet()"
   ]
  },
  {
   "cell_type": "code",
   "execution_count": 19,
   "id": "c848f09e-d224-4ca8-b764-27864d132a34",
   "metadata": {},
   "outputs": [
    {
     "name": "stdout",
     "output_type": "stream",
     "text": [
      "90.0\n"
     ]
    }
   ],
   "source": [
    "#12. Implement a class Student with attributes name and grades. Create a method average_grade() to compute the average of the grades.\n",
    "class Student:\n",
    "    def __init__(self, name, grades):\n",
    "        self.name = name\n",
    "        self.grades = grades\n",
    "\n",
    "    def average_grade(self):\n",
    "        return sum(self.grades) / len(self.grades)\n",
    "\n",
    "s = Student(\"Anu\", [80, 90, 100])\n",
    "print(s.average_grade())"
   ]
  },
  {
   "cell_type": "code",
   "execution_count": 20,
   "id": "88986e53-6310-42e8-9fe6-bdaebbacbbf3",
   "metadata": {},
   "outputs": [
    {
     "name": "stdout",
     "output_type": "stream",
     "text": [
      "20\n"
     ]
    }
   ],
   "source": [
    "# 13. Create a class Rectangle with methods set_dimensions() to set the dimensions and area() to calculate the area.\n",
    "class Rectangle:\n",
    "    def set_dimensions(self, length, width):\n",
    "        self.length = length\n",
    "        self.width = width\n",
    "\n",
    "    def area(self):\n",
    "        return self.length * self.width\n",
    "\n",
    "r = Rectangle()\n",
    "r.set_dimensions(5, 4)\n",
    "print(r.area())"
   ]
  },
  {
   "cell_type": "code",
   "execution_count": 21,
   "id": "fd509a33-6a6f-4032-aa8e-3aa05fb19e38",
   "metadata": {},
   "outputs": [
    {
     "name": "stdout",
     "output_type": "stream",
     "text": [
      "2500\n"
     ]
    }
   ],
   "source": [
    "#14. Create a class Employee with a method calculate_salary() that computes the salary based on hours worked and hourly rate. Create a derived class Manager that adds a bonus to the salary.\n",
    "class Employee:\n",
    "    def calculate_salary(self, hours, rate):\n",
    "        return hours * rate\n",
    "\n",
    "class Manager(Employee):\n",
    "    def calculate_salary(self, hours, rate, bonus):\n",
    "        return super().calculate_salary(hours, rate) + bonus\n",
    "\n",
    "m = Manager()\n",
    "print(m.calculate_salary(40, 50, 500))"
   ]
  },
  {
   "cell_type": "code",
   "execution_count": 22,
   "id": "7f95d28a-6e23-4000-a419-059d98cb2ba4",
   "metadata": {},
   "outputs": [
    {
     "name": "stdout",
     "output_type": "stream",
     "text": [
      "450\n"
     ]
    }
   ],
   "source": [
    "# 15. Create a class Product with attributes name, price, and quantity. Implement a method total_price() that calculates the total price of the product.\n",
    "class Product:\n",
    "    def __init__(self, name, price, quantity):\n",
    "        self.name = name\n",
    "        self.price = price\n",
    "        self.quantity = quantity\n",
    "\n",
    "    def total_price(self):\n",
    "        return self.price * self.quantity\n",
    "\n",
    "p = Product(\"Book\", 150, 3)\n",
    "print(p.total_price())"
   ]
  },
  {
   "cell_type": "code",
   "execution_count": 23,
   "id": "fd4bba22-45a1-4ab7-97d1-b220d7f15e95",
   "metadata": {},
   "outputs": [
    {
     "name": "stdout",
     "output_type": "stream",
     "text": [
      "Moo\n",
      "Baa\n"
     ]
    }
   ],
   "source": [
    "#16. Create a class Animal with an abstract method sound(). Create two derived classes Cow and Sheep that implement the sound() method. \n",
    "class Animal(ABC):\n",
    "    @abstractmethod\n",
    "    def sound(self):\n",
    "        pass\n",
    "\n",
    "class Cow(Animal):\n",
    "    def sound(self):\n",
    "        print(\"Moo\")\n",
    "\n",
    "class Sheep(Animal):\n",
    "    def sound(self):\n",
    "        print(\"Baa\")\n",
    "\n",
    "Cow().sound()    \n",
    "Sheep().sound()"
   ]
  },
  {
   "cell_type": "code",
   "execution_count": 24,
   "id": "4ca63b57-5ec5-43a7-9691-1c1cb36d9f6d",
   "metadata": {},
   "outputs": [
    {
     "name": "stdout",
     "output_type": "stream",
     "text": [
      "Wings of Fire, A.P.J. Abdul Kalam, 1999\n"
     ]
    }
   ],
   "source": [
    "#17. Create a class Book with attributes title, author, and year_published. Add a method get_book_info() that returns a formatted string with the book's details.\n",
    "\n",
    "\n",
    "\n",
    "class Book:\n",
    "    def __init__(self, title, author, year):\n",
    "        self.title = title\n",
    "        self.author = author\n",
    "        self.year = year\n",
    "\n",
    "    def get_book_info(self):\n",
    "        return f\"{self.title}, {self.author}, {self.year}\"\n",
    "\n",
    "b = Book(\"Wings of Fire\", \"A.P.J. Abdul Kalam\", 1999)\n",
    "print(b.get_book_info())"
   ]
  },
  {
   "cell_type": "code",
   "execution_count": 25,
   "id": "f9770ac5-c93a-4e1e-b952-ac970ef51167",
   "metadata": {},
   "outputs": [
    {
     "name": "stdout",
     "output_type": "stream",
     "text": [
      "Sector 10 9000000 12\n"
     ]
    }
   ],
   "source": [
    "#18. Create a class House with attributes address and price. Create a derived class Mansion that adds an attribute number_of_rooms.\n",
    "class House:\n",
    "    def __init__(self, address, price):\n",
    "        self.address = address\n",
    "        self.price = price\n",
    "\n",
    "class Mansion(House):\n",
    "    def __init__(self, address, price, rooms):\n",
    "        super().__init__(address, price)\n",
    "        self.rooms = rooms\n",
    "\n",
    "m = Mansion(\"Sector 10\", 9000000, 12)\n",
    "print(m.address, m.price, m.rooms)"
   ]
  }
 ],
 "metadata": {
  "kernelspec": {
   "display_name": "Python 3 (ipykernel)",
   "language": "python",
   "name": "python3"
  },
  "language_info": {
   "codemirror_mode": {
    "name": "ipython",
    "version": 3
   },
   "file_extension": ".py",
   "mimetype": "text/x-python",
   "name": "python",
   "nbconvert_exporter": "python",
   "pygments_lexer": "ipython3",
   "version": "3.12.7"
  }
 },
 "nbformat": 4,
 "nbformat_minor": 5
}
