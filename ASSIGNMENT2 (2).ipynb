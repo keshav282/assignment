{
 "cells": [
  {
   "cell_type": "markdown",
   "id": "ee6795a5-187f-4c19-b65e-90f29d4649e4",
   "metadata": {},
   "source": [
    "                                                              ASSIGNMENT - 2 "
   ]
  },
  {
   "cell_type": "code",
   "execution_count": null,
   "id": "2dcb62d4-78e5-45aa-b3e7-b1a5d002ca8c",
   "metadata": {},
   "outputs": [],
   "source": [
    "'''Q-1 What are data structures, and why are they important?\n",
    "Ans= Data structures store and organize data. They're important because they help process \n",
    "and access data efficiently (like lists, stacks, queues, etc.).'''"
   ]
  },
  {
   "cell_type": "code",
   "execution_count": null,
   "id": "5351c7e8-36ea-40f3-80e6-0917d784a670",
   "metadata": {},
   "outputs": [],
   "source": [
    "'''Q-2   Explain the difference between mutable and immutable data types with examples?\n",
    "ANS = Mutable: Can be changed after creation.\n",
    "Example: list\n",
    "Immutable: Cannot be changed after creation.\n",
    "Example: tuple, string\n",
    "'''"
   ]
  },
  {
   "cell_type": "code",
   "execution_count": null,
   "id": "7de2d205-b152-49e1-b8f8-7cb83b381744",
   "metadata": {},
   "outputs": [],
   "source": [
    "'''Q-3  What are the main differences between lists and tuples in Python?\n",
    "ans=  A list is a mutable, ordered collection of items in Python, meaning you can change, add, or remove elements. It uses square brackets []. A tuple is similar to a list but is immutable, meaning its values cannot be changed once created. Tuples use parentheses (). \n",
    "Use lists when data needs to change, and tuples when data should remain constant."
   ]
  },
  {
   "cell_type": "code",
   "execution_count": null,
   "id": "287431dd-fc38-4d69-915f-08bed2787297",
   "metadata": {},
   "outputs": [],
   "source": [
    "''' Q-4 Describe how dictionaries store data:\n",
    "Dictionaries use a key-value pair format. Internally, \n",
    "they use a hash table to store keys and map them to values efficiently.\n",
    "'''"
   ]
  },
  {
   "cell_type": "code",
   "execution_count": null,
   "id": "cd4ee18d-32b7-4b76-b934-170b028a7a24",
   "metadata": {},
   "outputs": [],
   "source": [
    "'''Q-5: Why might you use a set instead of a list in Python?\n",
    " ANS= a)To store unique values (sets automatically remove duplicates).\n",
    "b)Faster lookup (checking if a value exists).\n",
    "c)Useful for set operations like union, intersection, etc.\n",
    "'''\n"
   ]
  },
  {
   "cell_type": "code",
   "execution_count": null,
   "id": "459a2272-98e4-470e-ba62-1349c90c9ad4",
   "metadata": {},
   "outputs": [],
   "source": [
    "'''Q-6: What is a string in Python, and how is it different from a list?\n",
    "ans= A string is a sequence of characters: \"hello\"\n",
    "A list can store any data type: ['h', 'e', 'l', 'l', 'o']\n",
    "Strings are immutable, lists are mutable.'''\n",
    "\n",
    "'''"
   ]
  },
  {
   "cell_type": "code",
   "execution_count": null,
   "id": "ff065ab3-ce83-4864-841c-90ff89434e0f",
   "metadata": {},
   "outputs": [],
   "source": [
    "'''\n",
    "Q-7:How do tuples ensure data integrity in Python?\n",
    "ans= Because tuples are immutable, their content can’t be changed.\n",
    "This ensures the data remains constant and\n",
    "Q-8:protected, which is useful in fixed collections (like coordinates).\n",
    "'''"
   ]
  },
  {
   "cell_type": "code",
   "execution_count": null,
   "id": "bafdab25-2469-4a36-825f-b3b762d4b1bb",
   "metadata": {},
   "outputs": [],
   "source": [
    "'''\n",
    "Q-8: What is a hash table, and how does it relate to dictionaries in Python?\n",
    "ans= A hash table maps keys to indexes using a hash function.\n",
    "Python dictionaries use hash tables internally for fast access to values using keys.\n",
    "'''\n"
   ]
  },
  {
   "cell_type": "code",
   "execution_count": null,
   "id": "481d13e7-8e13-4ed8-bdfd-0f034aa6e107",
   "metadata": {},
   "outputs": [],
   "source": [
    "'''\n",
    "Q-9: Can lists contain different data types in Python?\n",
    "ans= Yes, list can contain different datatypes in a python.\n",
    "'''\n"
   ]
  },
  {
   "cell_type": "code",
   "execution_count": null,
   "id": "c0d1cdec-16ec-4ba5-9bb3-575292a871d8",
   "metadata": {},
   "outputs": [],
   "source": [
    "'''\n",
    "Q-10: Explain why strings are immutable in Python?\n",
    "ans= Safety: Prevents accidental modification.\n",
    "Efficiency: Easier to optimize and cache.\n",
    "Sharing: Multiple variables can point to the same string without copying.\n",
    "'''"
   ]
  },
  {
   "cell_type": "code",
   "execution_count": null,
   "id": "0ad3b905-2449-489e-a2ed-19d574911613",
   "metadata": {},
   "outputs": [],
   "source": [
    "'''\n",
    "Q-11:  What advantages do dictionaries offer over lists for certain tasks?\n",
    "ans= a) Fast access using keys (O(1) time).\n",
    "\n",
    "b)More meaningful data representation (e.g., name-value pairs).\n",
    "\n",
    "c)Avoids using indexes, which are harder to track in large data sets.\n",
    "'''\n"
   ]
  },
  {
   "cell_type": "code",
   "execution_count": null,
   "id": "a8304565-2b14-443e-9604-1153b7dac6de",
   "metadata": {},
   "outputs": [],
   "source": [
    "'''\n",
    "Q-12: Describe a scenario where using a tuple would be preferable over a list?\n",
    "ans= When you need a fixed set of values that shouldn't change.\n",
    "Example: GPS coordinates (27.7041, 85.3086) or days of the week.\n",
    "'''"
   ]
  },
  {
   "cell_type": "code",
   "execution_count": null,
   "id": "ad54f7d0-b46b-48a9-8721-098ecd8b07ff",
   "metadata": {},
   "outputs": [],
   "source": [
    "'''\n",
    "Q-13: How do sets handle duplicate values in Python?\n",
    "ans= Sets automatically remove duplicates.\n",
    "'''"
   ]
  },
  {
   "cell_type": "code",
   "execution_count": null,
   "id": "55c0def7-0417-480b-a69f-da8240d23315",
   "metadata": {},
   "outputs": [],
   "source": [
    "'''\n",
    "Q-14: How does the “in” keyword work differently for lists and dictionaries?\n",
    "ans= n lists: checks for values\n",
    "'''\n",
    "2 in [1, 2, 3] → True\n",
    "\n",
    "# In dicts: checks for keys\n",
    "'name' in {'name': 'Alice'} → True"
   ]
  },
  {
   "cell_type": "code",
   "execution_count": null,
   "id": "e020e119-a1b3-482e-b5e5-3a9d6272ab73",
   "metadata": {},
   "outputs": [],
   "source": [
    "'''\n",
    "Q-15: Can you modify the elements of a tuple? Explain why or why not?\n",
    "ans= No, because tuples are immutable.\n",
    "Once created, elements cannot be added, removed, or changed.\n",
    "'''\n"
   ]
  },
  {
   "cell_type": "code",
   "execution_count": null,
   "id": "74fbdf74-1b55-4627-931d-a66c36c50a7a",
   "metadata": {},
   "outputs": [],
   "source": [
    "'''\n",
    "Q-16:What is a nested dictionary, and give an example of its use case?\n",
    "ans= A nested dictionary means , A dictionary inside another dictionary.\n",
    "'''"
   ]
  },
  {
   "cell_type": "code",
   "execution_count": null,
   "id": "338fc71d-90c3-47bd-aeb6-b466a88bcafe",
   "metadata": {},
   "outputs": [],
   "source": [
    "'''\n",
    "Q-17: Describe the time complexity of accessing elements in a dictionary?\n",
    "ans= O(1) – constant time using hashing.\n",
    "Fast even for large datasets, unlike lists (which are O(n)).\n",
    "'''"
   ]
  },
  {
   "cell_type": "code",
   "execution_count": null,
   "id": "adf6deda-b07d-42fc-be27-3044d6b2295f",
   "metadata": {},
   "outputs": [],
   "source": [
    "'''\n",
    "Q-18: In what situations are lists preferred over dictionaries?\n",
    "ans= When order matters (especially before Python 3.7).\n",
    "\n",
    "When you only need indexed data.\n",
    "\n",
    "When keys are not needed, e.g., iterating over items in order.\n",
    "'''"
   ]
  },
  {
   "cell_type": "code",
   "execution_count": null,
   "id": "5872bc86-e2d0-4ba4-8395-e41658a33e34",
   "metadata": {},
   "outputs": [],
   "source": [
    "\n",
    "'''\n",
    "Q-19:Why are dictionaries considered unordered, and how does that affect data retrieval?\n",
    "ans= Older Python versions (before 3.7) did not guarantee key order.\n",
    "Now, insertion order is preserved, but they’re still accessed using keys, not index.\n",
    "'''"
   ]
  },
  {
   "cell_type": "code",
   "execution_count": null,
   "id": "685407e1-65ee-4910-bb81-4795c85bf99f",
   "metadata": {},
   "outputs": [],
   "source": [
    "'''\n",
    "Q-20: Explain the difference between a list and a dictionaryin terms of data retrieval?\n",
    "ans= A list is an ordered collection accessed by index, useful for storing items in sequence. A dictionary is an unordered collection of key-value pairs, accessed by keys, ideal for labeled data. Lists allow duplicates and use positions;\n",
    "dictionaries use unique keys for fast lookup."
   ]
  },
  {
   "cell_type": "code",
   "execution_count": 1,
   "id": "513c51b2-f3b4-4168-a2be-8510773e5319",
   "metadata": {},
   "outputs": [
    {
     "name": "stdout",
     "output_type": "stream",
     "text": [
      "my name is  keshav\n"
     ]
    }
   ],
   "source": [
    "\n",
    "                                                     # ASSIGNMENT PRACTICAL QUESTIONS\n",
    "\n",
    "# Q-1: Write a code to create a string with your name and print it ? \n",
    "string=\"keshav\"\n",
    "print(\"my name is \",string)\n"
   ]
  },
  {
   "cell_type": "code",
   "execution_count": 2,
   "id": "f5d68a15-5327-4683-8c7e-8219808293d8",
   "metadata": {},
   "outputs": [
    {
     "name": "stdout",
     "output_type": "stream",
     "text": [
      "the length of a string is  11\n"
     ]
    }
   ],
   "source": [
    "# Q-2: Write a code to find the length of the string \"Hello World\"?\n",
    "s=\"Hello World\"\n",
    "print(\"the length of a string is \",len(s))"
   ]
  },
  {
   "cell_type": "code",
   "execution_count": 3,
   "id": "18cfc557-cdb9-4377-87be-cebe8061c38c",
   "metadata": {},
   "outputs": [
    {
     "data": {
      "text/plain": [
       "'pyt'"
      ]
     },
     "execution_count": 3,
     "metadata": {},
     "output_type": "execute_result"
    }
   ],
   "source": [
    "# Q-3: Write a code to slice the first 3 characters from the string \"Python Programming\"?\n",
    "word=\"python programming\"\n",
    "word[0:3]\n",
    "\n"
   ]
  },
  {
   "cell_type": "code",
   "execution_count": 6,
   "id": "5b215a08-bdbf-431b-9a39-df08ac5374e6",
   "metadata": {},
   "outputs": [
    {
     "name": "stdout",
     "output_type": "stream",
     "text": [
      "HELLO\n"
     ]
    }
   ],
   "source": [
    "# Q-4:Write a code to convert the string \"hello\" to uppercase?\n",
    "s1=\"hello\"\n",
    "print(s1.upper())"
   ]
  },
  {
   "cell_type": "code",
   "execution_count": 7,
   "id": "0011c289-638c-4a47-855a-2431768dad20",
   "metadata": {},
   "outputs": [
    {
     "name": "stdout",
     "output_type": "stream",
     "text": [
      "replacing apple \n",
      "I like orange\n"
     ]
    }
   ],
   "source": [
    "# Q-5: Write a code to replace the word \"apple\" with \"orange\" in the string \"I like apple\"?\n",
    "s2=\"I like apple\"\n",
    "print(\"replacing apple \")\n",
    "print(s2.replace(\"apple\",\"orange\"))"
   ]
  },
  {
   "cell_type": "code",
   "execution_count": 11,
   "id": "292e97db-b8a6-4df4-a7e7-5e5e964024ad",
   "metadata": {},
   "outputs": [
    {
     "name": "stdout",
     "output_type": "stream",
     "text": [
      "[1, 2, 3, 4, 5]\n"
     ]
    }
   ],
   "source": [
    "#Q-6:Write a code to create a list with numbers 1 to 5 and print it?\n",
    "lis=[1,2,3,4,5]\n",
    "print(lis)"
   ]
  },
  {
   "cell_type": "code",
   "execution_count": 14,
   "id": "dfd9c181-d875-4f90-b746-88271e835891",
   "metadata": {},
   "outputs": [
    {
     "data": {
      "text/plain": [
       "[1, 2, 3, 4, 10]"
      ]
     },
     "execution_count": 14,
     "metadata": {},
     "output_type": "execute_result"
    }
   ],
   "source": [
    "# Q-7: Write a code to append the number 10 to the list [1, 2, 3, 4]?\n",
    "lists=[1,2,3,4]\n",
    "lists.append(10)\n",
    "lists\n"
   ]
  },
  {
   "cell_type": "code",
   "execution_count": 15,
   "id": "b1110991-5173-4e6a-a176-789a21b546cf",
   "metadata": {},
   "outputs": [
    {
     "data": {
      "text/plain": [
       "[1, 2, 4, 5]"
      ]
     },
     "execution_count": 15,
     "metadata": {},
     "output_type": "execute_result"
    }
   ],
   "source": [
    " # Q-8 Write a code to remove the number 3 from the list [1, 2, 3, 4, 5]\n",
    "code=[1,2,3,4,5]\n",
    "code.remove(3)\n",
    "code"
   ]
  },
  {
   "cell_type": "code",
   "execution_count": 16,
   "id": "35725349-3718-4a85-a7e6-3ebb0ab02cfd",
   "metadata": {},
   "outputs": [
    {
     "data": {
      "text/plain": [
       "'b'"
      ]
     },
     "execution_count": 16,
     "metadata": {},
     "output_type": "execute_result"
    }
   ],
   "source": [
    " # Q-9 Write a code to access the second element in the list ['a', 'b', 'c', 'd']\n",
    "code1=['a','b','c','d']\n",
    "code1[1]"
   ]
  },
  {
   "cell_type": "code",
   "execution_count": 17,
   "id": "2f5fc796-ab8e-49eb-a9f3-6846b84d30de",
   "metadata": {},
   "outputs": [
    {
     "data": {
      "text/plain": [
       "[50, 40, 30, 20, 10]"
      ]
     },
     "execution_count": 17,
     "metadata": {},
     "output_type": "execute_result"
    }
   ],
   "source": [
    " # Q-10: Write a code to reverse the list [10, 20, 30, 40, 50].\n",
    "l=[10,20,30,40,50]\n",
    "l[::-1]\n"
   ]
  },
  {
   "cell_type": "code",
   "execution_count": 18,
   "id": "dd5c41ae-5df8-46d8-94c7-3d0a17ae687b",
   "metadata": {},
   "outputs": [
    {
     "name": "stdout",
     "output_type": "stream",
     "text": [
      "(100, 200, 300)\n"
     ]
    }
   ],
   "source": [
    "#Q-11 Write a code to create a tuple with the elements 100, 200, 300 and print it.\n",
    "tuples=(100,200,300)\n",
    "print(tuples)"
   ]
  },
  {
   "cell_type": "code",
   "execution_count": 19,
   "id": "6cc1c781-f7d6-4057-b791-9bf55493872e",
   "metadata": {},
   "outputs": [
    {
     "data": {
      "text/plain": [
       "'blue'"
      ]
     },
     "execution_count": 19,
     "metadata": {},
     "output_type": "execute_result"
    }
   ],
   "source": [
    "# Q-12 Write a code to access the second-to-last element of the tuple ('red', 'green', 'blue', 'yellow').\n",
    "tup=('red', 'green', 'blue', 'yellow')\n",
    "tup[-2]"
   ]
  },
  {
   "cell_type": "code",
   "execution_count": 20,
   "id": "68dcf07f-aa54-4d48-a554-b59d8280ad43",
   "metadata": {},
   "outputs": [
    {
     "name": "stdout",
     "output_type": "stream",
     "text": [
      "5\n"
     ]
    }
   ],
   "source": [
    "# Q-13 Write a code to find the minimum number in the tuple (10, 20, 5, 15).\n",
    "t=(10, 20, 5, 15)\n",
    "print(min(t))\n"
   ]
  },
  {
   "cell_type": "code",
   "execution_count": 21,
   "id": "132b0f62-3750-4684-a5bf-9fe9c15e02c9",
   "metadata": {},
   "outputs": [
    {
     "name": "stdout",
     "output_type": "stream",
     "text": [
      "1\n"
     ]
    }
   ],
   "source": [
    " # Q-14 Write a code to find the index of the element \"cat\" in the tuple ('dog', 'cat', 'rabbit').\n",
    "t1=('dog', 'cat', 'rabbit')\n",
    "print(t1.index(\"cat\"))"
   ]
  },
  {
   "cell_type": "code",
   "execution_count": 22,
   "id": "84dc0417-5dff-418c-afd7-99b976d2966c",
   "metadata": {},
   "outputs": [
    {
     "name": "stdout",
     "output_type": "stream",
     "text": [
      "found\n"
     ]
    }
   ],
   "source": [
    "# Q-15 . Write a code to create a tuple containing three different fruits and check if \"kiwi\" is in it.\n",
    "t3=(\"apple\",\"kiwi\",\"mango\")\n",
    "if \"kiwi\"in t3:\n",
    "    print(\"found\")"
   ]
  },
  {
   "cell_type": "code",
   "execution_count": 23,
   "id": "77d9a1fe-6640-4353-b597-5c997a2c1c03",
   "metadata": {},
   "outputs": [
    {
     "data": {
      "text/plain": [
       "{'a', 'b', 'c'}"
      ]
     },
     "execution_count": 23,
     "metadata": {},
     "output_type": "execute_result"
    }
   ],
   "source": [
    "# Q-16 Write a code to create a set with the elements 'a', 'b', 'c' and print it.\n",
    "sets={'a', 'b', 'c'}\n",
    "sets"
   ]
  },
  {
   "cell_type": "code",
   "execution_count": 26,
   "id": "a5ec874f-9d16-44fb-b23d-4c15a18d62eb",
   "metadata": {},
   "outputs": [
    {
     "data": {
      "text/plain": [
       "set()"
      ]
     },
     "execution_count": 26,
     "metadata": {},
     "output_type": "execute_result"
    }
   ],
   "source": [
    "# Q-17  Write a code to clear all elements from the set {1, 2, 3, 4, 5}.\n",
    "sets={1, 2, 3, 4, 5}\n",
    "sets.clear()\n",
    "sets\n"
   ]
  },
  {
   "cell_type": "code",
   "execution_count": 27,
   "id": "bc403e1e-c59f-4f6a-87e6-2ec3a69edb29",
   "metadata": {},
   "outputs": [
    {
     "data": {
      "text/plain": [
       "{1, 2, 3}"
      ]
     },
     "execution_count": 27,
     "metadata": {},
     "output_type": "execute_result"
    }
   ],
   "source": [
    "# Q-18 Write a code to remove the element 4 from the set {1, 2, 3, 4}.\n",
    "sets={1, 2, 3, 4}\n",
    "sets.remove(4)\n",
    "sets\n"
   ]
  },
  {
   "cell_type": "code",
   "execution_count": 29,
   "id": "4729b5b7-37b0-4f83-ab80-fcfa79ca8bcc",
   "metadata": {},
   "outputs": [
    {
     "name": "stdout",
     "output_type": "stream",
     "text": [
      "UNION= {1, 2, 3, 4, 5}\n"
     ]
    }
   ],
   "source": [
    "# Q-19  Write a code to find the union of two sets {1, 2, 3} and {3, 4, 5}.\n",
    "sets={1, 2, 3}\n",
    "sets2={3, 4, 5}\n",
    "print(\"UNION=\",sets|sets2)"
   ]
  },
  {
   "cell_type": "code",
   "execution_count": 30,
   "id": "24771a06-d4bb-4c12-aca9-929bda3f6500",
   "metadata": {},
   "outputs": [
    {
     "name": "stdout",
     "output_type": "stream",
     "text": [
      "UNION= {3}\n"
     ]
    }
   ],
   "source": [
    "# Q-20:Write a code to find the intersection of two sets {1, 2, 3} and {2, 3, 4}.\n",
    "sets={1, 2, 3}\n",
    "sets2={3, 4, 5}\n",
    "print(\"UNION=\",sets&sets2)"
   ]
  },
  {
   "cell_type": "code",
   "execution_count": 31,
   "id": "392fbb80-460f-4caf-bebe-45f3f64195d9",
   "metadata": {},
   "outputs": [
    {
     "data": {
      "text/plain": [
       "{'name': 'keshav', 'age': '20', 'city': 'new delhi'}"
      ]
     },
     "execution_count": 31,
     "metadata": {},
     "output_type": "execute_result"
    }
   ],
   "source": [
    "# Q-21: Write a code to create a dictionary with the keys \"name\", \"age\", and \"city\", and print it.\n",
    "dictionary={\"name\":\"keshav\",\"age\":\"20\",\"city\":\"new delhi\"}\n",
    "dictionary"
   ]
  },
  {
   "cell_type": "code",
   "execution_count": 32,
   "id": "1f0fb3d1-ed51-4b73-b958-415d74d249e1",
   "metadata": {},
   "outputs": [
    {
     "data": {
      "text/plain": [
       "{'name': 'John', 'age': 25, 'country': 'USA'}"
      ]
     },
     "execution_count": 32,
     "metadata": {},
     "output_type": "execute_result"
    }
   ],
   "source": [
    "# Q-22: Write a code to add a new key-value pair \"country\": \"USA\" to the dictionary {'name': 'John', 'age': 25}\n",
    "dictionary1={'name': 'John', 'age': 25}\n",
    "dictionary1[\"country\"]=\"USA\"\n",
    "dictionary1"
   ]
  },
  {
   "cell_type": "code",
   "execution_count": 33,
   "id": "eb46189d-a16d-4de2-b39e-8b146eefc9e4",
   "metadata": {},
   "outputs": [
    {
     "data": {
      "text/plain": [
       "'Alice'"
      ]
     },
     "execution_count": 33,
     "metadata": {},
     "output_type": "execute_result"
    }
   ],
   "source": [
    "# Q-23:Write a code to access the value associated with the key \"name\" in the dictionary Write a code to access the value associated with the key \"name\" in the dictionary {'name': 'Alice', 'age': 30}.\n",
    "d={'name': 'Alice', 'age': 30}\n",
    "d[\"name\"]"
   ]
  },
  {
   "cell_type": "code",
   "execution_count": 38,
   "id": "d2abca51-b04f-454e-a8f6-5cd4635bf131",
   "metadata": {},
   "outputs": [
    {
     "data": {
      "text/plain": [
       "{'name': 'Bob', 'city': 'New York'}"
      ]
     },
     "execution_count": 38,
     "metadata": {},
     "output_type": "execute_result"
    }
   ],
   "source": [
    "# Q-24 : Write a code to remove the key \"age\" from the dictionary {'name': 'Bob', 'age': 22, 'city': 'New York'}.\n",
    "d1={'name': 'Bob', 'age': 22, 'city': 'New York'}\n",
    "del d1[\"age\"]\n",
    "d1"
   ]
  },
  {
   "cell_type": "code",
   "execution_count": 39,
   "id": "bdce0688-0547-4608-8415-4c44d08ae753",
   "metadata": {},
   "outputs": [
    {
     "name": "stdout",
     "output_type": "stream",
     "text": [
      "yes paris here \n"
     ]
    }
   ],
   "source": [
    "# Q-25 : . Write a code to check if the key \"city\" exists in the dictionary {'name': 'Alice', 'city': 'Paris'}.\n",
    "d2={'name': 'Alice', 'city': 'Paris'}\n",
    "if \"city\" in d2:\n",
    "    print(\"yes paris here \")"
   ]
  },
  {
   "cell_type": "code",
   "execution_count": 43,
   "id": "dbeb49d0-b7b9-44b8-8cde-01d8bf26af99",
   "metadata": {},
   "outputs": [
    {
     "name": "stdout",
     "output_type": "stream",
     "text": [
      "[1, 2, 3] (1, 2, 3, 4) {'name': 'keshav', 'hello': 'ji'}\n"
     ]
    }
   ],
   "source": [
    "# Q-26: Write a code to create a list, a tuple, and a dictionary, and print them all.\n",
    "ll=[1,2,3]\n",
    "tupp=(1,2,3,4)\n",
    "di={\"name\":\"keshav\",\"hello\":\"ji\"}\n",
    "print(ll,\n",
    "      tupp,\n",
    "      di)"
   ]
  },
  {
   "cell_type": "code",
   "execution_count": 44,
   "id": "dbb36b60-2577-4759-8b96-0609702e092e",
   "metadata": {},
   "outputs": [
    {
     "data": {
      "text/plain": [
       "[1, 2, 10, 33, 100]"
      ]
     },
     "execution_count": 44,
     "metadata": {},
     "output_type": "execute_result"
    }
   ],
   "source": [
    "# Q-27: Write a code to create a list of 5 random numbers between 1 and 100, sort it in ascending order, and print the \n",
    "#result.(replaced)\n",
    "l=[1,33,10,2,100]\n",
    "sorted(l)\n"
   ]
  },
  {
   "cell_type": "code",
   "execution_count": 45,
   "id": "64aa0f1e-ba41-440a-9030-694b4f48008c",
   "metadata": {},
   "outputs": [
    {
     "data": {
      "text/plain": [
       "'mango'"
      ]
     },
     "execution_count": 45,
     "metadata": {},
     "output_type": "execute_result"
    }
   ],
   "source": [
    "# Q-28:Write a code to create a list with strings and print the element at the third index.\n",
    "list_name=[\"apple\",\"crunchies\",\"date\",\"mango\"]\n",
    "list_name[3]\n",
    "\n"
   ]
  },
  {
   "cell_type": "code",
   "execution_count": 46,
   "id": "0a6c1e2f-83e1-4ea3-880b-34bacf64d7fa",
   "metadata": {},
   "outputs": [
    {
     "data": {
      "text/plain": [
       "{'a': 1, 'b': 2, 'c': 3}"
      ]
     },
     "execution_count": 46,
     "metadata": {},
     "output_type": "execute_result"
    }
   ],
   "source": [
    "# Q-29:Write a code to combine two dictionaries into one and print the result.\n",
    "dict_1={'a':1,'b':2}\n",
    "dict_2={'c':3}\n",
    "dict_1.update(dict_2)\n",
    "dict_1"
   ]
  },
  {
   "cell_type": "code",
   "execution_count": 47,
   "id": "d4b4f27b-93d2-4127-b7f2-3abc37bfdac4",
   "metadata": {},
   "outputs": [
    {
     "data": {
      "text/plain": [
       "{'kapil', 'keshav', 'sundar pichai'}"
      ]
     },
     "execution_count": 47,
     "metadata": {},
     "output_type": "execute_result"
    }
   ],
   "source": [
    "#Q-30: Write a code to convert a list of strings into a set.\n",
    "list_1=['keshav','kapil','sundar pichai']\n",
    "list_2=set(list_1)\n",
    "list_2"
   ]
  },
  {
   "cell_type": "code",
   "execution_count": null,
   "id": "29cc1813-d8fd-4a3e-b35e-19febad4298d",
   "metadata": {},
   "outputs": [],
   "source": []
  },
  {
   "cell_type": "code",
   "execution_count": null,
   "id": "4b8168ca-87dd-4c5f-803d-8aaee339db82",
   "metadata": {},
   "outputs": [],
   "source": []
  },
  {
   "cell_type": "code",
   "execution_count": null,
   "id": "35e3a101-b16a-4826-8082-203bc9482eb6",
   "metadata": {},
   "outputs": [],
   "source": []
  },
  {
   "cell_type": "code",
   "execution_count": null,
   "id": "bd292889-3d1c-4b57-b10d-1dab011e6d5c",
   "metadata": {},
   "outputs": [],
   "source": []
  },
  {
   "cell_type": "code",
   "execution_count": null,
   "id": "7b37aceb-c3be-4c83-9786-1934c995dcb2",
   "metadata": {},
   "outputs": [],
   "source": []
  },
  {
   "cell_type": "code",
   "execution_count": null,
   "id": "9691a7fa-58e8-4eb0-ba3f-7ba04d1c2577",
   "metadata": {},
   "outputs": [],
   "source": []
  },
  {
   "cell_type": "code",
   "execution_count": null,
   "id": "db702d94-49a4-41b1-af24-ee949d7502b8",
   "metadata": {},
   "outputs": [],
   "source": []
  },
  {
   "cell_type": "code",
   "execution_count": null,
   "id": "4a2bac38-1ca9-4e06-afb3-1d12263cc4b6",
   "metadata": {},
   "outputs": [],
   "source": []
  },
  {
   "cell_type": "code",
   "execution_count": null,
   "id": "6e13494d-8f46-4495-96c8-08fe92173287",
   "metadata": {},
   "outputs": [],
   "source": []
  },
  {
   "cell_type": "code",
   "execution_count": null,
   "id": "515e58b7-6985-4d67-a2ac-f65f611cc73a",
   "metadata": {},
   "outputs": [],
   "source": []
  },
  {
   "cell_type": "code",
   "execution_count": null,
   "id": "abd45bff-0c90-47fc-9409-d646386990c1",
   "metadata": {},
   "outputs": [],
   "source": []
  },
  {
   "cell_type": "code",
   "execution_count": null,
   "id": "a346710f-0615-40ea-8094-681e902912e6",
   "metadata": {},
   "outputs": [],
   "source": []
  },
  {
   "cell_type": "code",
   "execution_count": null,
   "id": "95fbcefc-639c-4998-b0c1-6477a43fd2e3",
   "metadata": {},
   "outputs": [],
   "source": []
  },
  {
   "cell_type": "code",
   "execution_count": null,
   "id": "744fc2d8-dfa8-47f3-a138-616507951bca",
   "metadata": {},
   "outputs": [],
   "source": []
  },
  {
   "cell_type": "code",
   "execution_count": null,
   "id": "6756176b-ae29-4f40-afdc-975107d0bced",
   "metadata": {},
   "outputs": [],
   "source": []
  },
  {
   "cell_type": "code",
   "execution_count": null,
   "id": "211bc111-c403-4360-a96e-67296f85902e",
   "metadata": {},
   "outputs": [],
   "source": []
  },
  {
   "cell_type": "code",
   "execution_count": null,
   "id": "2dce525d-5464-4a0c-b2c7-75e0bbdad8ee",
   "metadata": {},
   "outputs": [],
   "source": []
  },
  {
   "cell_type": "code",
   "execution_count": null,
   "id": "4583ca06-25be-4d3e-b1b9-42bd3ac1cee3",
   "metadata": {},
   "outputs": [],
   "source": []
  },
  {
   "cell_type": "code",
   "execution_count": null,
   "id": "eaec5141-9605-44d4-9613-bb700ccd1714",
   "metadata": {},
   "outputs": [],
   "source": []
  },
  {
   "cell_type": "code",
   "execution_count": null,
   "id": "1e0fa944-c316-4574-8266-f0cac117567d",
   "metadata": {},
   "outputs": [],
   "source": []
  },
  {
   "cell_type": "code",
   "execution_count": null,
   "id": "26e72dd2-945c-4d19-bd88-5c6f22828038",
   "metadata": {},
   "outputs": [],
   "source": []
  },
  {
   "cell_type": "code",
   "execution_count": null,
   "id": "c59900eb-14d6-4fa4-8fec-9e405666d779",
   "metadata": {},
   "outputs": [],
   "source": []
  },
  {
   "cell_type": "code",
   "execution_count": null,
   "id": "6153fd9d-3740-4233-8e7c-0334f30ba907",
   "metadata": {},
   "outputs": [],
   "source": []
  },
  {
   "cell_type": "code",
   "execution_count": null,
   "id": "cb4f2b84-4ad8-4b41-811f-5dea3b319a08",
   "metadata": {},
   "outputs": [],
   "source": []
  },
  {
   "cell_type": "code",
   "execution_count": null,
   "id": "c4e501d3-a644-4f20-9b6c-49a302d5facf",
   "metadata": {},
   "outputs": [],
   "source": []
  },
  {
   "cell_type": "code",
   "execution_count": null,
   "id": "24edb4b0-1810-469a-af02-c88b733fade2",
   "metadata": {},
   "outputs": [],
   "source": []
  },
  {
   "cell_type": "code",
   "execution_count": null,
   "id": "b97d908e-5c27-42f8-84da-68f97049110c",
   "metadata": {},
   "outputs": [],
   "source": []
  },
  {
   "cell_type": "code",
   "execution_count": null,
   "id": "cb910180-97d3-4a4d-ab09-0709a39fae6f",
   "metadata": {},
   "outputs": [],
   "source": []
  }
 ],
 "metadata": {
  "kernelspec": {
   "display_name": "Python 3 (ipykernel)",
   "language": "python",
   "name": "python3"
  },
  "language_info": {
   "codemirror_mode": {
    "name": "ipython",
    "version": 3
   },
   "file_extension": ".py",
   "mimetype": "text/x-python",
   "name": "python",
   "nbconvert_exporter": "python",
   "pygments_lexer": "ipython3",
   "version": "3.12.7"
  }
 },
 "nbformat": 4,
 "nbformat_minor": 5
}
