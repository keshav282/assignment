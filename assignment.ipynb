{
 "cells": [
  {
   "cell_type": "raw",
   "id": "b395de30-0b98-45a9-ad35-a625e62d46a4",
   "metadata": {},
   "source": [
    "                                                           Theory questions"
   ]
  },
  {
   "cell_type": "raw",
   "id": "c26729ac-0396-44ca-b023-8f32031c957b",
   "metadata": {},
   "source": [
    "QUESTION 1: What is Python, and why is it popular?\n",
    "ans:- python is a high level language as it support multiple programming paradigm . \n",
    "python is popular bcz it is easy to learn , it used in various applications like web development , AI, and more . \n",
    "python is interpreted language that interpret the code line by line ."
   ]
  },
  {
   "cell_type": "raw",
   "id": "3c9a1422-645d-4d94-afef-fd8b26f6ad53",
   "metadata": {},
   "source": [
    "QUESTION 2:What is an interpreter in Python?\n",
    "ans:- interpreter means execute the python code line by line which make it easier to test and debug but slower than compiled language."
   ]
  },
  {
   "cell_type": "raw",
   "id": "5409d70d-64f5-4ec1-b77c-f9792d1a5d12",
   "metadata": {},
   "source": [
    "QUESTION 3:What are pre-defined keywords in Python?\n",
    "ans:- predefined keywords in python are reserved words in python that have special meanings and cannot be used as a variable . we can know all the keywords using help(\"keywords\")."
   ]
  },
  {
   "cell_type": "raw",
   "id": "a111f9b8-b540-418c-89e8-b6c5b60d6e18",
   "metadata": {},
   "source": [
    "QUESTION 4:Can keywords be used as variable names?\n",
    "ans:- No , keywords cannot be used as variable names in python because keywords in python have special meanings ."
   ]
  },
  {
   "cell_type": "raw",
   "id": "0f5a70c4-0014-4735-8419-3976a59b2182",
   "metadata": {},
   "source": [
    "QUESTION 5:What is mutability in Python?\n",
    "ans:- mutability in python means a value can be changed after it is created for eg:\n",
    "list,dictionary,sets."
   ]
  },
  {
   "cell_type": "raw",
   "id": "cf2bf16f-c96e-4c88-8990-9cca29165229",
   "metadata": {},
   "source": [
    "QUESTION 6:Why are lists mutable, but tuples are immutable?\n",
    "ans:- list are mutable because they are changed or update after there creations .\n",
    "On the other hand tuples are immutable as they are fixed after there creations they cannot be change, update,remove that's why tuples are immutable and lists are mutable."
   ]
  },
  {
   "cell_type": "raw",
   "id": "aa11466e-cb87-44aa-bede-c7eb02994f68",
   "metadata": {},
   "source": [
    "QUESTION 7:What is the difference between “==” and “is” operators in Python?\n",
    "ans:- ==( is used for comparing the values of two object to check if they are the same or not)\n",
    "\n",
    "is( is used to compare the memory location of two objects )"
   ]
  },
  {
   "cell_type": "raw",
   "id": "5025e1f8-e690-4f82-8a46-e828e5b5f388",
   "metadata": {},
   "source": [
    "QUESTION 8: What are logical operators in Python?\n",
    "ans:- logical operator are used to perform logical operations on boolean values:\n",
    "logical operators are :\n",
    "and \n",
    "or\n",
    "not\n"
   ]
  },
  {
   "cell_type": "raw",
   "id": "0c6e1ac3-4f19-4888-b70e-6062f3a8c796",
   "metadata": {},
   "source": [
    "QUESTION 9:What is type casting in Python?\n",
    "ans:- typcasting in python means converting one datatypes to another ."
   ]
  },
  {
   "cell_type": "raw",
   "id": "48e47aae-0d0b-4de7-baba-d3883c49689b",
   "metadata": {},
   "source": [
    "Question 10: What is the difference between implicit and explicit type casting?\n",
    "ans:- typecasting have 2 types :\n",
    "implicit = this happen automatically in python .\n",
    "explicit = this happen when programmer convert one datatype to another.\n"
   ]
  },
  {
   "cell_type": "raw",
   "id": "ecdfad1c-443b-4f0e-8745-2c981bfeafbf",
   "metadata": {},
   "source": [
    "Question 11:What is the purpose of conditional statements in Python?\n",
    "ans:- conditional statement allow  us to execute block of code using some conditions .\n",
    "some conditional statements are :\n",
    "if \n",
    "elif\n",
    "else"
   ]
  },
  {
   "cell_type": "raw",
   "id": "4081243a-80be-483d-ba58-014532263001",
   "metadata": {},
   "source": [
    "Question 12:How does the elif statement work?\n",
    "ans:- elif statement is used to check multiple conditions . \n",
    "syntax:\n",
    "if condition:\n",
    "  # code\n",
    "elif condition:\n",
    "  # code \n",
    "else :\n",
    "  # code "
   ]
  },
  {
   "cell_type": "raw",
   "id": "dfa42664-4cc2-4c4b-9f15-17837626b61e",
   "metadata": {},
   "source": [
    "Question 13: What is the difference between for and while loops?\n",
    "ans:- for loop is used for iterating over a sequence .\n",
    "     while loop is used for executing block of code while the condition is met. "
   ]
  },
  {
   "cell_type": "raw",
   "id": "cc37e3fa-01b9-46c5-a1bd-a0124b18ad15",
   "metadata": {},
   "source": [
    "Question 14:Describe a scenario where a while loop is more suitable than a for loop.\n",
    "ans:- while loop is better then for loop as if we dont know how many times the user will need to be prompted . \n",
    "when we dont know how many time we need to repeat a task . \n",
    "while loop execute while some condition is met ."
   ]
  },
  {
   "cell_type": "raw",
   "id": "5949e909-cb10-4e3d-921c-2e73c44c1119",
   "metadata": {},
   "source": [
    "                                                            PRACTICAL QUESTIONS "
   ]
  },
  {
   "cell_type": "code",
   "execution_count": 1,
   "id": "3504bd6b-bf60-4158-9dcb-d084d9552a88",
   "metadata": {},
   "outputs": [
    {
     "name": "stdout",
     "output_type": "stream",
     "text": [
      "Hello, World!\n"
     ]
    }
   ],
   "source": [
    "# Write a Python program to print \"Hello, World!\n",
    "\n",
    "print(\"Hello, World!\")"
   ]
  },
  {
   "cell_type": "code",
   "execution_count": 2,
   "id": "bbfb7dc5-d85b-488f-a3d4-cfa4ab95eca9",
   "metadata": {},
   "outputs": [
    {
     "name": "stdout",
     "output_type": "stream",
     "text": [
      "my name is  keshav and my age is 18\n"
     ]
    }
   ],
   "source": [
    " # Write a Python program that displays your name and age\n",
    "name=\"keshav\"\n",
    "age=18\n",
    "print(\"my name is \",name,\"and my age is\",age)"
   ]
  },
  {
   "cell_type": "code",
   "execution_count": 1,
   "id": "b96d96ab-5dd0-4311-949b-78303c30ae51",
   "metadata": {},
   "outputs": [
    {
     "name": "stdout",
     "output_type": "stream",
     "text": [
      "\n",
      "Here is a list of the Python keywords.  Enter any keyword to get more help.\n",
      "\n",
      "False               class               from                or\n",
      "None                continue            global              pass\n",
      "True                def                 if                  raise\n",
      "and                 del                 import              return\n",
      "as                  elif                in                  try\n",
      "assert              else                is                  while\n",
      "async               except              lambda              with\n",
      "await               finally             nonlocal            yield\n",
      "break               for                 not                 \n",
      "\n",
      "None\n"
     ]
    }
   ],
   "source": [
    "# Write code to print all the pre-defined keywords in Python using the keyword library\n",
    "print(help(\"keywords\"))\n"
   ]
  },
  {
   "cell_type": "code",
   "execution_count": 6,
   "id": "3446610f-8dae-4328-abe2-2647cff834dc",
   "metadata": {},
   "outputs": [
    {
     "name": "stdout",
     "output_type": "stream",
     "text": [
      "enter your word for\n"
     ]
    },
    {
     "name": "stdout",
     "output_type": "stream",
     "text": [
      "it is a keyword\n"
     ]
    }
   ],
   "source": [
    "# Write a program that checks if a given word is a Python keyword\n",
    "import keyword\n",
    "word=input(\"enter your word\")\n",
    "if word in keyword.kwlist:\n",
    "    print(\"it is a keyword\")\n",
    "else:\n",
    "    print(\"not\")"
   ]
  },
  {
   "cell_type": "code",
   "execution_count": 8,
   "id": "183bc440-630b-47b5-86af-e4919a64a6fa",
   "metadata": {},
   "outputs": [
    {
     "name": "stdout",
     "output_type": "stream",
     "text": [
      "modify is  [1, 2, 3, 9, 5]\n"
     ]
    }
   ],
   "source": [
    "'''Create a list and tuple in Python,\n",
    "and demonstrate how attempting to change an element works differently \n",
    "for each.'''\n",
    "list1=[1,2,3,4,5]\n",
    "list1[3]=9\n",
    "modify=list1\n",
    "print(\"modify is \",modify)\n",
    "\n",
    "\n"
   ]
  },
  {
   "cell_type": "code",
   "execution_count": 9,
   "id": "0942f031-d4bd-4133-b207-eda872bf6bd9",
   "metadata": {},
   "outputs": [
    {
     "ename": "TypeError",
     "evalue": "'tuple' object does not support item assignment",
     "output_type": "error",
     "traceback": [
      "\u001b[1;31m---------------------------------------------------------------------------\u001b[0m",
      "\u001b[1;31mTypeError\u001b[0m                                 Traceback (most recent call last)",
      "Cell \u001b[1;32mIn[9], line 2\u001b[0m\n\u001b[0;32m      1\u001b[0m tuple1\u001b[38;5;241m=\u001b[39m(\u001b[38;5;241m1\u001b[39m,\u001b[38;5;241m2\u001b[39m,\u001b[38;5;241m3\u001b[39m,\u001b[38;5;241m4\u001b[39m,\u001b[38;5;241m5\u001b[39m)\n\u001b[1;32m----> 2\u001b[0m tuple1[\u001b[38;5;241m0\u001b[39m]\u001b[38;5;241m=\u001b[39m\u001b[38;5;241m6\u001b[39m\n\u001b[0;32m      3\u001b[0m \u001b[38;5;28mprint\u001b[39m(tuple1)\n",
      "\u001b[1;31mTypeError\u001b[0m: 'tuple' object does not support item assignment"
     ]
    }
   ],
   "source": [
    "tuple1=(1,2,3,4,5)\n",
    "tuple1[0]=6\n",
    "print(tuple1)               #tuple does not support assignment"
   ]
  },
  {
   "cell_type": "code",
   "execution_count": 10,
   "id": "5c4e292b-166b-4384-882e-fbdd0caca0dc",
   "metadata": {},
   "outputs": [
    {
     "name": "stdout",
     "output_type": "stream",
     "text": [
      "modify is  [1, 2, 3, 9, 5]\n"
     ]
    }
   ],
   "source": [
    "# Write a function to demonstrate the behavior of mutable and immutable arguments.\n",
    "list1=[1,2,3,4,5]\n",
    "list1[3]=9                              # mutable means updating after creation \n",
    "modify=list1\n",
    "print(\"modify is \",modify)\n"
   ]
  },
  {
   "cell_type": "code",
   "execution_count": 11,
   "id": "91f1d73b-5ce5-4d50-a935-13253142face",
   "metadata": {},
   "outputs": [
    {
     "ename": "TypeError",
     "evalue": "'str' object does not support item assignment",
     "output_type": "error",
     "traceback": [
      "\u001b[1;31m---------------------------------------------------------------------------\u001b[0m",
      "\u001b[1;31mTypeError\u001b[0m                                 Traceback (most recent call last)",
      "Cell \u001b[1;32mIn[11], line 2\u001b[0m\n\u001b[0;32m      1\u001b[0m string1\u001b[38;5;241m=\u001b[39m\u001b[38;5;124m\"\u001b[39m\u001b[38;5;124mkeshav\u001b[39m\u001b[38;5;124m\"\u001b[39m\n\u001b[1;32m----> 2\u001b[0m string1[\u001b[38;5;241m0\u001b[39m]\u001b[38;5;241m=\u001b[39m\u001b[38;5;124m\"\u001b[39m\u001b[38;5;124mj\u001b[39m\u001b[38;5;124m\"\u001b[39m\n\u001b[0;32m      3\u001b[0m \u001b[38;5;28mprint\u001b[39m(string1)\n",
      "\u001b[1;31mTypeError\u001b[0m: 'str' object does not support item assignment"
     ]
    }
   ],
   "source": [
    "string1=\"keshav\"\n",
    "string1[0]=\"j\"                   # in this string is immutable it doesnt update after \n",
    "                                   #the creation\n",
    "print(string1)"
   ]
  },
  {
   "cell_type": "code",
   "execution_count": 13,
   "id": "563fb3aa-6af4-43c1-81c1-e7271613d949",
   "metadata": {},
   "outputs": [
    {
     "name": "stdout",
     "output_type": "stream",
     "text": [
      "enter 1 number here  3\n",
      "enter 2 number here  2\n"
     ]
    },
    {
     "name": "stdout",
     "output_type": "stream",
     "text": [
      "performing arithmetic operations \n",
      "addition 5\n",
      "subtraction 1\n",
      "multiplication 6\n",
      "division 1.5\n",
      "exponention 9\n",
      "modulus 1\n",
      "floor 1\n"
     ]
    }
   ],
   "source": [
    "# Write a program that performs basic arithmetic operations on two user-input numbers.\n",
    "a=int(input(\"enter 1 number here \"))\n",
    "b=int(input(\"enter 2 number here \"))\n",
    "print(\"performing arithmetic operations \")\n",
    "print(\"addition\",a+b)\n",
    "print(\"subtraction\",a-b)\n",
    "print(\"multiplication\",a*b)\n",
    "print(\"division\",a/b)\n",
    "print(\"exponention\",a**b)\n",
    "print(\"modulus\",a%b)\n",
    "print(\"floor\",a//b)\n"
   ]
  },
  {
   "cell_type": "code",
   "execution_count": 28,
   "id": "802afe34-8fcb-43d1-b275-acae13ff5c3b",
   "metadata": {},
   "outputs": [
    {
     "name": "stdout",
     "output_type": "stream",
     "text": [
      "False\n",
      "True\n",
      "True\n",
      "False\n"
     ]
    }
   ],
   "source": [
    "# Write a program to demonstrate the use of logical operators.\n",
    "a=True\n",
    "b=False\n",
    "print(a and b)\n",
    "print(a or b)\n",
    "print( not b)\n",
    "print( not a)\n"
   ]
  },
  {
   "cell_type": "code",
   "execution_count": 36,
   "id": "7c859bb0-e7ad-42b3-a5ee-002024e8ee52",
   "metadata": {},
   "outputs": [
    {
     "name": "stdout",
     "output_type": "stream",
     "text": [
      "enter your input here : 123\n"
     ]
    },
    {
     "data": {
      "text/plain": [
       "'123'"
      ]
     },
     "execution_count": 36,
     "metadata": {},
     "output_type": "execute_result"
    }
   ],
   "source": [
    "''' Write a Python program to convert \n",
    "user input from string to integer, float, and boolean types.'''\n",
    "user=input(\"enter your input here :\")\n",
    "user\n"
   ]
  },
  {
   "cell_type": "code",
   "execution_count": 37,
   "id": "7fbf25a4-dfa6-49ca-983c-6884b04ed213",
   "metadata": {},
   "outputs": [
    {
     "data": {
      "text/plain": [
       "123"
      ]
     },
     "execution_count": 37,
     "metadata": {},
     "output_type": "execute_result"
    }
   ],
   "source": [
    "#string to integer \n",
    "int(user)                  # hence character cannot be converted into a integer"
   ]
  },
  {
   "cell_type": "code",
   "execution_count": 38,
   "id": "8f99002d-8536-4e19-8d65-c61a08329715",
   "metadata": {},
   "outputs": [
    {
     "data": {
      "text/plain": [
       "True"
      ]
     },
     "execution_count": 38,
     "metadata": {},
     "output_type": "execute_result"
    }
   ],
   "source": [
    "bool(user)\n"
   ]
  },
  {
   "cell_type": "code",
   "execution_count": 39,
   "id": "97384b8b-5fdd-4da5-aff2-4443ce9d3db8",
   "metadata": {},
   "outputs": [
    {
     "data": {
      "text/plain": [
       "123.0"
      ]
     },
     "execution_count": 39,
     "metadata": {},
     "output_type": "execute_result"
    }
   ],
   "source": [
    "float(user)"
   ]
  },
  {
   "cell_type": "code",
   "execution_count": 102,
   "id": "3fd1f783-960d-4082-93f5-178519b91e8c",
   "metadata": {},
   "outputs": [
    {
     "name": "stdout",
     "output_type": "stream",
     "text": [
      "Boolean list: [True, True, True, True]\n"
     ]
    }
   ],
   "source": [
    "# Write code to demonstrate type casting with list elements.\n",
    "\n",
    " \n",
    "list_input = [\"10\", \"20.5\", \"True\", \"False\"]\n",
    "\n",
    " \n",
    " \n",
    "list_bool = [bool(x) for x in list_input]\n",
    "\n",
    "  \n",
    "print(\"Boolean list:\", list_bool)\n"
   ]
  },
  {
   "cell_type": "code",
   "execution_count": 51,
   "id": "2252ce7a-649f-42b8-930a-bf9f74837522",
   "metadata": {},
   "outputs": [
    {
     "name": "stdout",
     "output_type": "stream",
     "text": [
      "enter your number 0\n"
     ]
    },
    {
     "name": "stdout",
     "output_type": "stream",
     "text": [
      "zero\n"
     ]
    }
   ],
   "source": [
    "number=int(input(\"enter your number\"))\n",
    "if number>0:\n",
    "           print(\"positive number\")\n",
    "elif number<0:\n",
    "           print(\"negative\")\n",
    "else:\n",
    "           print(\"zero\")"
   ]
  },
  {
   "cell_type": "code",
   "execution_count": 53,
   "id": "f047668d-9d97-4073-80e8-a8e108bbf8fb",
   "metadata": {},
   "outputs": [
    {
     "name": "stdout",
     "output_type": "stream",
     "text": [
      "1\n",
      "2\n",
      "3\n",
      "4\n",
      "5\n",
      "6\n",
      "7\n",
      "8\n",
      "9\n",
      "10\n"
     ]
    }
   ],
   "source": [
    "# Write a for loop to print numbers from 1 to 10.\n",
    "for i in range(1,11):\n",
    "    print(i)"
   ]
  },
  {
   "cell_type": "code",
   "execution_count": null,
   "id": "d2194090-005f-4bc7-a3dd-e9b23da91dcb",
   "metadata": {},
   "outputs": [],
   "source": []
  },
  {
   "cell_type": "code",
   "execution_count": 55,
   "id": "263c96d0-487e-4f5e-83bf-a25639d0099b",
   "metadata": {},
   "outputs": [
    {
     "name": "stdout",
     "output_type": "stream",
     "text": [
      "sum of even number between 1 and 50 650\n"
     ]
    }
   ],
   "source": [
    "# Write a Python program to find the sum of all even numbers between 1 and 50.\n",
    "sum=0\n",
    "for i in range(1,51):\n",
    "    if i%2==0:\n",
    "        sum+=i\n",
    "print(\"sum of even number between 1 and 50\",sum)"
   ]
  },
  {
   "cell_type": "code",
   "execution_count": 68,
   "id": "b96a9294-ff9a-4298-b272-0d64f262a328",
   "metadata": {},
   "outputs": [
    {
     "name": "stdout",
     "output_type": "stream",
     "text": [
      "olleh\n"
     ]
    }
   ],
   "source": [
    "# Write a program to reverse a string using a while loop.\n",
    "text=\"hello\"\n",
    "reversed_text=\"\"\n",
    "i=len(text)-1\n",
    "while i>=0:\n",
    "    reversed_text+=text[i]\n",
    "    i-=1\n",
    "print(reversed_text)"
   ]
  },
  {
   "cell_type": "code",
   "execution_count": 65,
   "id": "9ed42c09-7e2f-47a1-8144-60df57cbfa03",
   "metadata": {},
   "outputs": [
    {
     "name": "stdout",
     "output_type": "stream",
     "text": [
      "enter number here  5\n"
     ]
    },
    {
     "name": "stdout",
     "output_type": "stream",
     "text": [
      "120\n"
     ]
    }
   ],
   "source": [
    "'''Write a Python program to calculate the factorial of\n",
    "a number provided by the user using a while loop.'''\n",
    "user=int(input(\"enter number here \"))\n",
    "factorial=1\n",
    "i=1\n",
    "while i<=user:\n",
    "    factorial*=i\n",
    "    i+=1\n",
    "print(factorial)\n",
    "    "
   ]
  },
  {
   "cell_type": "code",
   "execution_count": null,
   "id": "984a8c46-cd83-47e7-a67d-0b2d072acd16",
   "metadata": {},
   "outputs": [],
   "source": []
  }
 ],
 "metadata": {
  "kernelspec": {
   "display_name": "Python 3 (ipykernel)",
   "language": "python",
   "name": "python3"
  },
  "language_info": {
   "codemirror_mode": {
    "name": "ipython",
    "version": 3
   },
   "file_extension": ".py",
   "mimetype": "text/x-python",
   "name": "python",
   "nbconvert_exporter": "python",
   "pygments_lexer": "ipython3",
   "version": "3.12.7"
  }
 },
 "nbformat": 4,
 "nbformat_minor": 5
}
