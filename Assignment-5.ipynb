{
 "cells": [
  {
   "cell_type": "code",
   "execution_count": null,
   "id": "049fce78-7f1b-45ee-9b63-2c6f64a72f9e",
   "metadata": {},
   "outputs": [],
   "source": [
    "                                                              # THEORY QUESTIONS  "
   ]
  },
  {
   "cell_type": "code",
   "execution_count": null,
   "id": "70a57f05-8316-4b7b-8732-8e6bf7744595",
   "metadata": {},
   "outputs": [],
   "source": [
    "# What is the difference between interpreted and compiled languages?\n",
    "'''\n",
    "Interpreted languages execute the code line by line at runtime using an interpreter,\n",
    "while compiled languages are first translated into machine code by a compiler and then executed. Interpreted languages are generally slower but easier to debug.\n",
    "'''\n"
   ]
  },
  {
   "cell_type": "code",
   "execution_count": null,
   "id": "7d1e08d7-a9b2-4c32-a9b3-563f2ca594c2",
   "metadata": {},
   "outputs": [],
   "source": [
    "# What is exception handling in Python?\n",
    "'''\n",
    "Exception handling in Python is the process of responding to runtime errors by using try, except, else, and finally blocks.\n",
    "It ensures the program does not crash and can handle unexpected situations gracefully.\n",
    "'''"
   ]
  },
  {
   "cell_type": "code",
   "execution_count": null,
   "id": "e6ec6ec9-7fd1-4750-a700-1f50aa15f730",
   "metadata": {},
   "outputs": [],
   "source": [
    "# What is the purpose of the finally block in exception handling?\n",
    "'''\n",
    "The finally block is used to execute cleanup actions that must be performed under all circumstances, \n",
    "whether an exception occurs or not. It is always executed after the try and except blocks.\n",
    "'''"
   ]
  },
  {
   "cell_type": "code",
   "execution_count": null,
   "id": "ecbede72-6a5f-4a58-955e-c159e18905a3",
   "metadata": {},
   "outputs": [],
   "source": [
    "# What is logging in Python?\n",
    "'''\n",
    "Logging in Python is a method of tracking events that happen during program execution. It allows developers to record informational\n",
    "messages, warnings, and errors, helping in debugging and monitoring applications.\n",
    "'''"
   ]
  },
  {
   "cell_type": "code",
   "execution_count": null,
   "id": "6ced7e4d-5250-49f6-85ec-5183a81f1b2f",
   "metadata": {},
   "outputs": [],
   "source": [
    "# What is the significance of the __del__ method in Python?\n",
    "'''\n",
    "The __del__ method is a special method called a destructor. It is automatically invoked when an object is about to be destroyed,\n",
    "allowing for cleanup operations such as closing resources or releasing memory.\n",
    "'''"
   ]
  },
  {
   "cell_type": "code",
   "execution_count": null,
   "id": "780d4fbf-7b62-4f30-93b8-983e883d3361",
   "metadata": {},
   "outputs": [],
   "source": [
    "# What is the difference between import and from ... import in Python?\n",
    "'''\n",
    "The import statement loads the entire module, requiring access to its contents using dot notation. The from \n",
    "... import statement allows direct access to specific functions or classes from the module.\n",
    "\n",
    "'''"
   ]
  },
  {
   "cell_type": "code",
   "execution_count": null,
   "id": "551e0fec-102f-4b57-a654-d58dabfb2d4b",
   "metadata": {},
   "outputs": [],
   "source": [
    "# How can you handle multiple exceptions in Python?\n",
    "'''\n",
    "Multiple exceptions in Python can be handled by using multiple except\n",
    "blocks for different exception types or a single block that handles multiple exceptions using parentheses.\n",
    "'''\n"
   ]
  },
  {
   "cell_type": "code",
   "execution_count": null,
   "id": "0bb7cfcc-ce90-4e66-afc6-8c812cd42816",
   "metadata": {},
   "outputs": [],
   "source": [
    "# What is the purpose of the with statement when handling files in Python?\n",
    "'''\n",
    "The with statement in file handling ensures that a file is properly opened and automatically closed\n",
    "after its suite finishes execution, which helps manage resources efficiently and safely.\n",
    "'''"
   ]
  },
  {
   "cell_type": "code",
   "execution_count": null,
   "id": "b50db760-a111-4852-beef-20f7ef8c8198",
   "metadata": {},
   "outputs": [],
   "source": [
    "# What is the difference between multithreading and multiprocessing?\n",
    "'''\n",
    "Multithreading involves running multiple threads within a single process, sharing the same memory space. Multiprocessing involves running multiple processes, \n",
    "each with its own memory, for parallel execution.\n",
    "'''"
   ]
  },
  {
   "cell_type": "code",
   "execution_count": null,
   "id": "35620251-d0af-44ed-887c-8eea66a733fd",
   "metadata": {},
   "outputs": [],
   "source": [
    "# What are the advantages of using logging in a program?\n",
    "'''\n",
    "Logging provides a way to monitor the flow of a program, helps detect errors, supports debugging, maintains history of events, and\n",
    "is more flexible and powerful than print statements.\n",
    "'''"
   ]
  },
  {
   "cell_type": "code",
   "execution_count": null,
   "id": "a023b7b0-54ce-43b1-8cbd-d7b5bd83b873",
   "metadata": {},
   "outputs": [],
   "source": [
    "# What is memory management in Python?\n",
    "'''\n",
    "Memory management in Python involves automatic allocation and deallocation of memory to variables and objects through reference counting and \n",
    "garbage collection to ensure efficient use of system resources.\n",
    "'''"
   ]
  },
  {
   "cell_type": "code",
   "execution_count": null,
   "id": "5d2ee613-6140-433c-84e2-4f6d52d75308",
   "metadata": {},
   "outputs": [],
   "source": [
    "# What are the basic steps involved in exception handling in Python?\n",
    "\n",
    "'''\n",
    "The basic steps include writing code in a try block that might raise an exception, using except to handle errors,\n",
    "optionally using else for successful execution, and finally for cleanup actions.\n",
    "'''"
   ]
  },
  {
   "cell_type": "code",
   "execution_count": null,
   "id": "9a59f2a1-bee0-425d-9508-2f30f78bcca8",
   "metadata": {},
   "outputs": [],
   "source": [
    "# Why is memory management important in Python?\n",
    "'''\n",
    "Memory management is important to avoid memory leaks, ensure efficient use of available memory, and\n",
    "improve the overall performance and reliability of Python programs.\n",
    "'''"
   ]
  },
  {
   "cell_type": "code",
   "execution_count": null,
   "id": "70ef1f99-490d-42a7-bef9-d5198c9ef35d",
   "metadata": {},
   "outputs": [],
   "source": [
    "# What is the role of try and except in exception handling?\n",
    "'''\n",
    "The try block is used to enclose code that may raise exceptions, and the except block is used to handle those exceptions, \n",
    "preventing the program from crashing and allowing for controlled execution.\n",
    "'''"
   ]
  },
  {
   "cell_type": "code",
   "execution_count": null,
   "id": "9b245aa9-eed7-42fc-bd76-b7b596f36b0d",
   "metadata": {},
   "outputs": [],
   "source": [
    "# How does Python's garbage collection system work?\n",
    "'''\n",
    "Python’s garbage collection system uses reference counting and a cyclic garbage collector to automatically detect and\n",
    "delete objects that are no longer in use, freeing up memory.\n",
    "'''"
   ]
  },
  {
   "cell_type": "code",
   "execution_count": null,
   "id": "1f7c6cb4-8001-49b9-9775-5848ba9a1882",
   "metadata": {},
   "outputs": [],
   "source": [
    "# What is the purpose of the else block in exception handling?\n",
    "'''\n",
    "The else block in exception handling is executed if the code in the try block does not raise any exceptions,\n",
    "allowing separation of error-handling and normal code execution.\n",
    "'''"
   ]
  },
  {
   "cell_type": "code",
   "execution_count": null,
   "id": "10f55b11-ebbf-420b-a6ae-8f2dd83225c0",
   "metadata": {},
   "outputs": [],
   "source": [
    "# What are the common logging levels in Python?\n",
    "'''\n",
    "Common logging levels are DEBUG (detailed info), INFO (general messages), WARNING (potential issues),\n",
    "ERROR (errors that occur), and CRITICAL (serious errors)\n",
    "'''"
   ]
  },
  {
   "cell_type": "code",
   "execution_count": null,
   "id": "126f4185-d435-4947-b455-d9f5cb8353bb",
   "metadata": {},
   "outputs": [],
   "source": [
    "# What is the difference between os.fork() and multiprocessing in Python?\n",
    "'''\n",
    "os.fork() creates a child process in Unix systems by duplicating the parent process. The multiprocessing module provides a\n",
    "platform-independent way to create and manage processes.\n",
    "'''"
   ]
  },
  {
   "cell_type": "code",
   "execution_count": null,
   "id": "6bb4f5e3-2560-4c02-a49b-85681e700be4",
   "metadata": {},
   "outputs": [],
   "source": [
    "# What is the importance of closing a file in Python?\n",
    "'''\n",
    "Closing a file ensures that all changes are saved and that system resources are released. \n",
    "It also prevents data corruption and file access issues.\n",
    "'''"
   ]
  },
  {
   "cell_type": "code",
   "execution_count": null,
   "id": "d9fe4d5d-bdf5-45a7-8c8f-4b2502a494d3",
   "metadata": {},
   "outputs": [],
   "source": [
    "# What is the difference between file.read() and file.readline() in Python?\n",
    "'''\n",
    "file.read() reads the entire file content as a single string, while file.readline() reads one line at a time, \n",
    "making it suitable for large files.\n",
    "'''"
   ]
  },
  {
   "cell_type": "code",
   "execution_count": null,
   "id": "aaa8ad59-fcba-4fda-856e-3cc9db81b1ac",
   "metadata": {},
   "outputs": [],
   "source": [
    "# What is the logging module in Python used for?\n",
    "'''\n",
    "The logging module provides a flexible framework for emitting log messages from Python programs. It allows recording of various levels \n",
    "of messages and writing them to files or consoles.\n",
    "'''"
   ]
  },
  {
   "cell_type": "code",
   "execution_count": null,
   "id": "fc3828dd-ae37-4120-84f1-3cde3e06278c",
   "metadata": {},
   "outputs": [],
   "source": [
    "# What is the os module in Python used for in file handling?\n",
    "'''\n",
    "The os module provides functions to interact with the operating system, \n",
    "such as creating, deleting, and modifying files and directories, and checking file properties.\n",
    "'''\n"
   ]
  },
  {
   "cell_type": "code",
   "execution_count": null,
   "id": "e8fd7583-51c7-4c2a-8983-08f008bd8f6a",
   "metadata": {},
   "outputs": [],
   "source": [
    "# What are the challenges associated with memory management in Python?\n",
    "'''\n",
    "Challenges include managing circular references, optimizing memory use for large data sets, avoiding memory leaks\n",
    "and understanding object lifetimes.\n",
    "'''"
   ]
  },
  {
   "cell_type": "code",
   "execution_count": null,
   "id": "4e606cf3-d2c4-42cd-b994-dccc8db96a96",
   "metadata": {},
   "outputs": [],
   "source": [
    "# How do you raise an exception manually in Python?\n",
    "'''\n",
    "An exception can be raised manually using the raise statement followed by an exception \n",
    "class to trigger a specific error condition.\n",
    "'''"
   ]
  },
  {
   "cell_type": "code",
   "execution_count": null,
   "id": "5c8ed3e2-0a5b-459f-99b5-e6fde987cc14",
   "metadata": {},
   "outputs": [],
   "source": [
    "# Why is it important to use multithreading in certain applications?\n",
    "'''\n",
    "Multithreading is important for improving performance in I/O-bound applications by allowing \n",
    "concurrent execution of tasks without waiting for one to complete.\n",
    "'''"
   ]
  },
  {
   "cell_type": "code",
   "execution_count": null,
   "id": "a5e99a1f-9f0e-41d5-9f3c-bc657bc2c397",
   "metadata": {},
   "outputs": [],
   "source": [
    "                                                              # Practical Questions "
   ]
  },
  {
   "cell_type": "code",
   "execution_count": 4,
   "id": "40c4d1c9-e53f-4b50-a0ad-fd169c28ca81",
   "metadata": {},
   "outputs": [
    {
     "name": "stdout",
     "output_type": "stream",
     "text": [
      "Successfully wrote content to 'my_output_file.txt'\n"
     ]
    }
   ],
   "source": [
    "# How can you open a file for writing in Python and write a string to it? \n",
    "try:\n",
    "    with open(\"my_output_file.txt\", \"w\") as file:\n",
    "        file.write(\"Hello, Pwskills! This is the first line.\\n\")\n",
    "        file.write(\"And this is the second line being written.\")\n",
    "    print(\"Successfully wrote content to 'my_output_file.txt'\")\n",
    "except IOError as e:\n",
    "    print(f\"Error writing to file: {e}\")"
   ]
  },
  {
   "cell_type": "code",
   "execution_count": 5,
   "id": "f5641f4e-0677-4f45-ba20-e985a2a8f5bf",
   "metadata": {},
   "outputs": [
    {
     "name": "stdout",
     "output_type": "stream",
     "text": [
      "Created 'sample_read_file.txt' for demonstration.\n",
      "\n",
      "Contents of 'sample_read_file.txt':\n",
      "This is line one.\n",
      "This is line two.\n",
      "This is line three.\n"
     ]
    }
   ],
   "source": [
    "# Write a Python program to read the contents of a file and print each line?\n",
    "try:\n",
    "    with open(\"sample_read_file.txt\", \"w\") as f:\n",
    "        f.write(\"This is line one.\\n\")\n",
    "        f.write(\"This is line two.\\n\")\n",
    "        f.write(\"This is line three.\")\n",
    "    print(\"Created 'sample_read_file.txt' for demonstration.\")\n",
    "except IOError as e:\n",
    "    print(f\"Error creating dummy file: {e}\")\n",
    "\n",
    "# Now, read the contents of the file\n",
    "try:\n",
    "    with open(\"sample_read_file.txt\", \"r\") as file:\n",
    "        print(\"\\nContents of 'sample_read_file.txt':\")\n",
    "        for line in file:\n",
    "            print(line.strip()) # .strip() removes leading/trailing whitespace, including the newline character\n",
    "except FileNotFoundError:\n",
    "    print(\"Error: 'sample_read_file.txt' was not found.\")\n",
    "except IOError as e:\n",
    "    print(f\"Error reading file: {e}\")\n"
   ]
  },
  {
   "cell_type": "code",
   "execution_count": 6,
   "id": "04fb2685-d6d3-4f10-90a5-18741ab00560",
   "metadata": {},
   "outputs": [
    {
     "name": "stdout",
     "output_type": "stream",
     "text": [
      "Error: The file 'non_existent_file.txt' was not found.\n"
     ]
    }
   ],
   "source": [
    "# How would you handle a case where the file doesn't exist while trying to open it for reading?\n",
    "try:\n",
    "    # Attempt to open a file that does not exist\n",
    "    with open(\"non_existent_file.txt\", \"r\") as file:\n",
    "        content = file.read()\n",
    "        print(\"File content:\")\n",
    "        print(content)\n",
    "except FileNotFoundError:\n",
    "    print(\"Error: The file 'non_existent_file.txt' was not found.\")\n",
    "except IOError as e:\n",
    "    print(f\"An I/O error occurred: {e}\")\n",
    "except Exception as e:\n",
    "    print(f\"An unexpected error occurred: {e}\")"
   ]
  },
  {
   "cell_type": "code",
   "execution_count": 7,
   "id": "4bddea36-3ca5-4f3d-b60b-566cc712382a",
   "metadata": {},
   "outputs": [
    {
     "name": "stdout",
     "output_type": "stream",
     "text": [
      "Created 'source_data.txt' for demonstration.\n",
      "Successfully copied content from 'source_data.txt' to 'copied_data.txt'.\n",
      "\n",
      "Content of 'copied_data.txt':\n",
      "Data from the source file.\n",
      "More data on the second line.\n",
      "End of source data.\n"
     ]
    }
   ],
   "source": [
    "# Write a Python script that reads from one file and writes its content to another file. \n",
    "source_filename = \"source_data.txt\"\n",
    "destination_filename = \"copied_data.txt\"\n",
    "\n",
    "# Create a dummy source file for demonstration\n",
    "try:\n",
    "    with open(source_filename, \"w\") as f:\n",
    "        f.write(\"Data from the source file.\\n\")\n",
    "        f.write(\"More data on the second line.\\n\")\n",
    "        f.write(\"End of source data.\")\n",
    "    print(f\"Created '{source_filename}' for demonstration.\")\n",
    "except IOError as e:\n",
    "    print(f\"Error creating source file: {e}\")\n",
    "\n",
    "try:\n",
    "    # Open the source file in read mode ('r')\n",
    "    with open(source_filename, \"r\") as source_file:\n",
    "        # Open the destination file in write mode ('w')\n",
    "        with open(destination_filename, \"w\") as destination_file:\n",
    "            for line in source_file:\n",
    "                destination_file.write(line)\n",
    "    print(f\"Successfully copied content from '{source_filename}' to '{destination_filename}'.\")\n",
    "\n",
    "    # Verify content in the destination file\n",
    "    with open(destination_filename, \"r\") as dest_file:\n",
    "        print(f\"\\nContent of '{destination_filename}':\")\n",
    "        print(dest_file.read())\n",
    "\n",
    "except FileNotFoundError:\n",
    "    print(f\"Error: Either '{source_filename}' or a path issue with '{destination_filename}' was encountered.\")\n",
    "except IOError as e:\n",
    "    print(f\"Error during file operation: {e}\")"
   ]
  },
  {
   "cell_type": "code",
   "execution_count": 8,
   "id": "ac6bcd0b-b9ef-4704-b4a8-4dd1b76ae34b",
   "metadata": {},
   "outputs": [
    {
     "name": "stdout",
     "output_type": "stream",
     "text": [
      "The result of 10 / 2 is: 5.0\n",
      "Error: Cannot divide by zero! Please provide a non-zero denominator.\n",
      "Error: Invalid input type. Please ensure both numerator and denominator are numbers.\n",
      "Error: Invalid input type. Please ensure both numerator and denominator are numbers.\n"
     ]
    }
   ],
   "source": [
    "# How would you catch and handle division by zero error in Python?\n",
    "def safe_divide(numerator, denominator):\n",
    "    try:\n",
    "        result = numerator / denominator\n",
    "        print(f\"The result of {numerator} / {denominator} is: {result}\")\n",
    "    except ZeroDivisionError:\n",
    "        print(\"Error: Cannot divide by zero! Please provide a non-zero denominator.\")\n",
    "    except TypeError:\n",
    "        print(\"Error: Invalid input type. Please ensure both numerator and denominator are numbers.\")\n",
    "    except Exception as e:\n",
    "        print(f\"An unexpected error occurred: {e}\")\n",
    "\n",
    "safe_divide(10, 2)   # Valid division\n",
    "safe_divide(10, 0)   # Division by zero\n",
    "safe_divide(5, \"a\")  # TypeError example\n",
    "safe_divide(\"b\", 2)  # TypeError example"
   ]
  },
  {
   "cell_type": "code",
   "execution_count": 9,
   "id": "2172aa07-ee30-4991-b495-5410f7dcf105",
   "metadata": {},
   "outputs": [
    {
     "name": "stdout",
     "output_type": "stream",
     "text": [
      "Error logged: Division by zero.\n",
      "Result: 5.0\n"
     ]
    }
   ],
   "source": [
    "# Write a Python program that logs an error message to a log file when a division by zero exception occurs.\n",
    "import logging\n",
    "\n",
    "logging.basicConfig(filename='error.log', level=logging.ERROR,\n",
    "                    format='%(asctime)s - %(message)s')\n",
    "\n",
    "def safe_div(a, b):\n",
    "    try:\n",
    "        result = a / b\n",
    "        print(f\"Result: {result}\")\n",
    "    except ZeroDivisionError:\n",
    "        logging.error(f\"Attempted division by zero: {a}/{b}\")\n",
    "        print(\"Error logged: Division by zero.\")\n",
    "\n",
    "safe_div(5, 0)\n",
    "safe_div(10, 2)"
   ]
  },
  {
   "cell_type": "code",
   "execution_count": 10,
   "id": "dc5a5316-1caf-475d-97a5-ff441d754282",
   "metadata": {},
   "outputs": [],
   "source": [
    "# How do you log information at different levels (INFO, ERROR, WARNING) in Python using the logging module? \n",
    "import logging\n",
    "\n",
    "logging.basicConfig(level=logging.INFO, format='%(levelname)s: %(message)s')\n",
    "\n",
    "logging.info(\"This is an informational message.\")\n",
    "logging.warning(\"This is a warning message.\")\n",
    "logging.error(\"This is an error message.\")"
   ]
  },
  {
   "cell_type": "code",
   "execution_count": 11,
   "id": "afc147c3-91ea-432e-9f5d-9df0c7b28722",
   "metadata": {},
   "outputs": [
    {
     "name": "stdout",
     "output_type": "stream",
     "text": [
      "File not found, could not open!\n"
     ]
    }
   ],
   "source": [
    "# How do you log information at different levels (INFO, ERROR, WARNING) in Python using the logging module? \n",
    "try:\n",
    "    with open(\"non_existent_file_for_error.txt\", \"r\") as f:\n",
    "        print(f.read())\n",
    "except FileNotFoundError:\n",
    "    print(\"File not found, could not open!\")\n",
    "except IOError as e:  \n",
    "    print(f\"An I/O error occurred: {e}\")"
   ]
  },
  {
   "cell_type": "code",
   "execution_count": 12,
   "id": "5d68142f-19cb-41c4-8e78-bf38ef7aaf67",
   "metadata": {},
   "outputs": [
    {
     "name": "stdout",
     "output_type": "stream",
     "text": [
      "['Apple', 'Banana', 'Cherry']\n"
     ]
    }
   ],
   "source": [
    " # How can you read a file line by line and store its content in a list in Python?\n",
    "with open(\"items.txt\", \"w\") as f:\n",
    "    f.write(\"Apple\\nBanana\\nCherry\")\n",
    "\n",
    "lines = []\n",
    "with open(\"items.txt\", \"r\") as file:\n",
    "    for line in file:\n",
    "        lines.append(line.strip())\n",
    "print(lines)"
   ]
  },
  {
   "cell_type": "code",
   "execution_count": 13,
   "id": "d8dffabe-5ca6-41be-9e7a-991c74aafe61",
   "metadata": {},
   "outputs": [
    {
     "name": "stdout",
     "output_type": "stream",
     "text": [
      "Data appended to 'my_log.txt'\n",
      "Initial entry.\n",
      "New entry appended.\n",
      "\n"
     ]
    }
   ],
   "source": [
    "# How can you append data to an existing file in Python? \n",
    "with open(\"my_log.txt\", \"w\") as f:\n",
    "    f.write(\"Initial entry.\\n\")\n",
    "\n",
    "# Append new data\n",
    "with open(\"my_log.txt\", \"a\") as file: \n",
    "    file.write(\"New entry appended.\\n\")\n",
    "print(\"Data appended to 'my_log.txt'\")\n",
    "\n",
    " \n",
    "with open(\"my_log.txt\", \"r\") as f:\n",
    "    print(f.read())"
   ]
  },
  {
   "cell_type": "code",
   "execution_count": 14,
   "id": "07ecd7a2-9218-44d7-9605-4ce611e67ca7",
   "metadata": {},
   "outputs": [
    {
     "name": "stdout",
     "output_type": "stream",
     "text": [
      "Error: Key not found in dictionary!\n"
     ]
    }
   ],
   "source": [
    "# Write a Python program that uses a try-except block to handle an error when attempting to access a dictionary key that doesn't exist.\n",
    "my_dict = {\"name\": \"Alice\"}\n",
    "try:\n",
    "    print(my_dict[\"age\"])\n",
    "except KeyError:\n",
    "    print(\"Error: Key not found in dictionary!\")"
   ]
  },
  {
   "cell_type": "code",
   "execution_count": 15,
   "id": "035a24ec-bbf1-4c2e-bacb-a295f324f077",
   "metadata": {},
   "outputs": [
    {
     "name": "stdout",
     "output_type": "stream",
     "text": [
      "Error: Invalid list index!\n",
      "Error: Cannot divide by zero!\n",
      "Error: Invalid data type for operation!\n"
     ]
    }
   ],
   "source": [
    "# Write a program that demonstrates using multiple except blocks to handle different types of exceptions. \n",
    "def handle_errors(data_list, index, divisor):\n",
    "    try:\n",
    "        value = data_list[index]\n",
    "        result = value / divisor\n",
    "        print(f\"Result: {result}\")\n",
    "    except IndexError:\n",
    "        print(\"Error: Invalid list index!\")\n",
    "    except ZeroDivisionError:\n",
    "        print(\"Error: Cannot divide by zero!\")\n",
    "    except TypeError:\n",
    "        print(\"Error: Invalid data type for operation!\")\n",
    "\n",
    "handle_errors([1, 2], 5, 1)  \n",
    "handle_errors([1, 2], 0, 0)  \n",
    "handle_errors([1, 'a'], 1, 1)  "
   ]
  },
  {
   "cell_type": "code",
   "execution_count": 16,
   "id": "75e1145f-cfef-4300-9263-f0c58c82870a",
   "metadata": {},
   "outputs": [
    {
     "name": "stdout",
     "output_type": "stream",
     "text": [
      "'check_file.txt' exists. Reading...\n",
      "Exists!\n"
     ]
    }
   ],
   "source": [
    "# How would you check if a file exists before attempting to read it in Python?\n",
    "import os\n",
    "\n",
    "filename = \"check_file.txt\"\n",
    "# Create a dummy file for testing\n",
    "with open(filename, \"w\") as f:\n",
    "    f.write(\"Exists!\")\n",
    "\n",
    "if os.path.exists(filename):\n",
    "    print(f\"'{filename}' exists. Reading...\")\n",
    "    with open(filename, \"r\") as f:\n",
    "        print(f.read())\n",
    "else:\n",
    "    print(f\"'{filename}' does not exist.\")"
   ]
  },
  {
   "cell_type": "code",
   "execution_count": 17,
   "id": "174626d9-3f92-4fc1-bd54-d5380e0282af",
   "metadata": {},
   "outputs": [],
   "source": [
    "# Write a program that uses the logging module to log both informational and error messages. \n",
    "import logging\n",
    "\n",
    "logging.basicConfig(level=logging.INFO,\n",
    "                    format='%(asctime)s - %(levelname)s - %(message)s',\n",
    "                    filename='app.log', filemode='w')\n",
    "\n",
    "logging.info(\"Application started.\")\n",
    "try:\n",
    "    result = 10 / 0\n",
    "except ZeroDivisionError:\n",
    "    logging.error(\"Attempted division by zero!\")\n",
    "logging.info(\"Application finished.\")"
   ]
  },
  {
   "cell_type": "code",
   "execution_count": 18,
   "id": "341d8b98-1865-44dc-96da-c78d3883cc71",
   "metadata": {},
   "outputs": [
    {
     "name": "stdout",
     "output_type": "stream",
     "text": [
      "'empty.txt' is empty.\n",
      "Content of 'filled.txt':\n",
      "Hello!\n",
      "Error: 'non_existent_yet.txt' not found.\n"
     ]
    }
   ],
   "source": [
    "# Write a Python program that prints the content of a file and handles the case when the file is empty.\n",
    "import os\n",
    "\n",
    "# Create empty file\n",
    "with open(\"empty.txt\", \"w\") as f: pass\n",
    "# Create file with content\n",
    "with open(\"filled.txt\", \"w\") as f: f.write(\"Hello!\")\n",
    "\n",
    "def print_file_content(filename):\n",
    "    if not os.path.exists(filename):\n",
    "        print(f\"Error: '{filename}' not found.\")\n",
    "        return\n",
    "\n",
    "    if os.path.getsize(filename) == 0:\n",
    "        print(f\"'{filename}' is empty.\")\n",
    "    else:\n",
    "        with open(filename, \"r\") as f:\n",
    "            print(f\"Content of '{filename}':\\n{f.read()}\")\n",
    "\n",
    "print_file_content(\"empty.txt\")\n",
    "print_file_content(\"filled.txt\")\n",
    "print_file_content(\"non_existent_yet.txt\")"
   ]
  },
  {
   "cell_type": "code",
   "execution_count": 19,
   "id": "3aa2e785-ebaa-4f93-9360-552d74c20dc7",
   "metadata": {},
   "outputs": [
    {
     "name": "stdout",
     "output_type": "stream",
     "text": [
      "List created with 100000 elements.\n"
     ]
    }
   ],
   "source": [
    "# Demonstrate how to use memory profiling to check the memory usage of a small program. \n",
    "def create_list():\n",
    "    # This function will show memory usage\n",
    "    data = [i * 100 for i in range(100000)]\n",
    "    return data\n",
    "\n",
    "if __name__ == \"__main__\":\n",
    "    my_data = create_list()\n",
    "    print(f\"List created with {len(my_data)} elements.\")\n",
    "     "
   ]
  },
  {
   "cell_type": "code",
   "execution_count": 20,
   "id": "2d15903a-2d79-4660-ac10-25cf3bfcddb3",
   "metadata": {},
   "outputs": [
    {
     "name": "stdout",
     "output_type": "stream",
     "text": [
      "Numbers written to 'numbers.txt'\n"
     ]
    }
   ],
   "source": [
    "# Write a Python program to create and write a list of numbers to a file, one number per line. \n",
    "numbers = [1, 23, 45, 67, 89]\n",
    "with open(\"numbers.txt\", \"w\") as file:\n",
    "    for num in numbers:\n",
    "        file.write(str(num) + \"\\n\")\n",
    "print(\"Numbers written to 'numbers.txt'\")"
   ]
  },
  {
   "cell_type": "code",
   "execution_count": 21,
   "id": "6e41dc4d-026d-4208-9e79-2aa838a6510f",
   "metadata": {},
   "outputs": [
    {
     "name": "stdout",
     "output_type": "stream",
     "text": [
      "Logging complete. Check 'rotated_log.log' and '.log.1', etc.\n"
     ]
    }
   ],
   "source": [
    "# How would you implement a basic logging setup that logs to a file with rotation after 1MB? \n",
    "import logging\n",
    "import logging.handlers\n",
    "\n",
    "log_file = \"rotated_log.log\"\n",
    "max_size = 1 * 1024 * 1024  \n",
    "\n",
    "handler = logging.handlers.RotatingFileHandler(\n",
    "    log_file, maxBytes=max_size, backupCount=3)\n",
    "logging.basicConfig(level=logging.INFO, handlers=[handler],\n",
    "                    format='%(asctime)s - %(message)s')\n",
    "\n",
    "for i in range(5000)\n",
    "    logging.info(f\"Log message {i}. This is a long line to fill the file faster.\")\n",
    "print(\"Logging complete. Check 'rotated_log.log' and '.log.1', etc.\")"
   ]
  },
  {
   "cell_type": "code",
   "execution_count": 22,
   "id": "a80eba5b-c37f-46ef-8efe-882a6c3ff344",
   "metadata": {},
   "outputs": [
    {
     "name": "stdout",
     "output_type": "stream",
     "text": [
      "Caught IndexError: List index out of bounds.\n",
      "Caught KeyError: Dictionary key not found.\n"
     ]
    }
   ],
   "source": [
    "# Write a program that handles both IndexError and KeyError using a try-except block.\n",
    "my_list = [10, 20]\n",
    "my_dict = {\"a\": 1}\n",
    "\n",
    "try:\n",
    "    print(my_list[5])  \n",
    "except IndexError:\n",
    "    print(\"Caught IndexError: List index out of bounds.\")\n",
    "\n",
    "try:\n",
    "    print(my_dict[\"b\"]) # KeyError\n",
    "except KeyError:\n",
    "    print(\"Caught KeyError: Dictionary key not found.\")"
   ]
  },
  {
   "cell_type": "code",
   "execution_count": 23,
   "id": "5a3399ad-39b9-4564-ae94-551c35aed21b",
   "metadata": {},
   "outputs": [
    {
     "name": "stdout",
     "output_type": "stream",
     "text": [
      "Managed content.\n"
     ]
    }
   ],
   "source": [
    "# How would you open a file and read its contents using a context manager in Python? \n",
    "with open(\"context_file.txt\", \"w\") as f:\n",
    "    f.write(\"Managed content.\")\n",
    "\n",
    " \n",
    "with open(\"context_file.txt\", \"r\") as file:\n",
    "    content = file.read()\n",
    "    print(content)\n",
    " "
   ]
  },
  {
   "cell_type": "code",
   "execution_count": 24,
   "id": "ed804cb6-b26e-4328-a8e8-39c0a702bff0",
   "metadata": {},
   "outputs": [
    {
     "name": "stdout",
     "output_type": "stream",
     "text": [
      "'python' appears 2 times.\n"
     ]
    }
   ],
   "source": [
    "# Write a Python program that reads a file and prints the number of occurrences of a specific word. \n",
    "with open(\"text_data.txt\", \"w\") as f:\n",
    "    f.write(\"Python is great. I love Python.\")\n",
    "\n",
    "word_to_find = \"python\"\n",
    "count = 0\n",
    "with open(\"text_data.txt\", \"r\") as file:\n",
    "    content = file.read().lower() # Read and convert to lowercase\n",
    "    count = content.count(word_to_find)\n",
    "print(f\"'{word_to_find}' appears {count} times.\")"
   ]
  },
  {
   "cell_type": "code",
   "execution_count": 25,
   "id": "ecb5e2d6-0b73-46b8-b70f-40dfd97e8607",
   "metadata": {},
   "outputs": [
    {
     "name": "stdout",
     "output_type": "stream",
     "text": [
      "'empty_file.txt' is empty.\n",
      "'non_empty_file.txt' is not empty.\n"
     ]
    }
   ],
   "source": [
    "# How can you check if a file is empty before attempting to read its contents? \n",
    "import os\n",
    "\n",
    "# Create dummy files\n",
    "with open(\"empty_file.txt\", \"w\") as f: pass\n",
    "with open(\"non_empty_file.txt\", \"w\") as f: f.write(\"abc\")\n",
    "\n",
    "def check_empty(filename):\n",
    "    if not os.path.exists(filename):\n",
    "        print(f\"'{filename}' does not exist.\")\n",
    "    elif os.path.getsize(filename) == 0:\n",
    "        print(f\"'{filename}' is empty.\")\n",
    "    else:\n",
    "        print(f\"'{filename}' is not empty.\")\n",
    "\n",
    "check_empty(\"empty_file.txt\")\n",
    "check_empty(\"non_empty_file.txt\")"
   ]
  },
  {
   "cell_type": "code",
   "execution_count": 26,
   "id": "f079eb45-656f-4d96-86a3-13374d2f6afe",
   "metadata": {},
   "outputs": [
    {
     "name": "stdout",
     "output_type": "stream",
     "text": [
      "Error logged: File not found.\n"
     ]
    }
   ],
   "source": [
    "# Write a Python program that writes to a log file when an error occurs during file handling \n",
    "import logging\n",
    "\n",
    "logging.basicConfig(filename='file_errors.log', level=logging.ERROR,\n",
    "                    format='%(asctime)s - %(message)s')\n",
    "\n",
    "try:\n",
    "    with open(\"non_existent_for_log.txt\", \"r\") as f:\n",
    "        f.read()\n",
    "except FileNotFoundError:\n",
    "    logging.error(\"Tried to read a non-existent file: non_existent_for_log.txt\")\n",
    "    print(\"Error logged: File not found.\")\n",
    "except Exception as e:\n",
    "    logging.error(f\"An unexpected file error occurred: {e}\")\n",
    "    print(\"Error logged: Unexpected file error.\")"
   ]
  }
 ],
 "metadata": {
  "kernelspec": {
   "display_name": "Python 3 (ipykernel)",
   "language": "python",
   "name": "python3"
  },
  "language_info": {
   "codemirror_mode": {
    "name": "ipython",
    "version": 3
   },
   "file_extension": ".py",
   "mimetype": "text/x-python",
   "name": "python",
   "nbconvert_exporter": "python",
   "pygments_lexer": "ipython3",
   "version": "3.12.7"
  }
 },
 "nbformat": 4,
 "nbformat_minor": 5
}
